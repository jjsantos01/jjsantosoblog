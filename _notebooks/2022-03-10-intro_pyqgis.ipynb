{
 "cells": [
  {
   "cell_type": "markdown",
   "id": "a077c0d0-ba14-4705-b7ae-38b8e331e8e3",
   "metadata": {},
   "source": [
    "# \"Introducción a PyQGIS (Python + QGIS)\"\n",
    "> \"Automatiza procesos de QGIS usando Python\"\n",
    "- toc: true\n",
    "- badges: true\n",
    "- comments: true\n",
    "- categories: [qgis, python, pyqgis]\n",
    "- permalink: /intro-pyqgis/\n",
    "\n",
    "> Elaborado por Juan Javier Santos Ochoa ([@jjsantoso](https://twitter.com/jjsantoso))"
   ]
  },
  {
   "cell_type": "markdown",
   "id": "901db0c9-efdc-4df4-91d5-ae8875dfb9b6",
   "metadata": {},
   "source": [
    "# Introducción\n",
    "\n",
    "Últimamente he estado trabajando mucho con [QGIS](https://www.qgis.org/es/site/), el software SIG de código libre indispensable para cualquier analista de datos geográficos. El trabajo que realizaba era muy manual (crear y editar polígonos), pero había ciertos pasos que sentía que podía automatizar, así que decidí aprender al menos un poco de [PyQGIS](https://docs.qgis.org/3.16/en/docs/pyqgis_developer_cookbook/index.html) para hacer las tareas repetitivas.\n",
    "\n",
    "PyQGIS es la librería de Python para ejecutar tareas dentro de QGIS. Si has usado QGIS seguro que en más de una vez has visto el logo de Python en la barra de herramientas. Python y QGIS tienen una gran integración y aprender a usar PyQGIS es una inversión de tiempo con rendimientos garantizados. Pese a ello, me parece que no es muy fácil iniciar con PyQGIS, incluso si uno ya sabe Python. PyQGIS y su documentación parece que están diseñados más hacia desarrolladores de plugins que hacia usuarios finales. Si uno viene de utilizar herramientas de análisis geográfico más sencillas como [GeoPandas](https://geopandas.org/en/stable/) o [SF](https://r-spatial.github.io/sf/) seguramente PyQGIS parece muy burocrático o complicado en un principio, pero como en todo, se trata de entender su lógica y poco a poco uno va descubriendo que también es una herramienta muy completa y muy práctica.\n",
    "\n",
    "En esta entrada me gustaría mostrar la lógica básica para que alguien que ya tiene conocimentos de la sintaxis de Python y ha trabajado con QGIS pueda empezar a automatizar procesos sencillos con PyQGIS. En particular voy a mostrar un par de ejemplos prácticos aplicando algoritnmos de validación y procesamiento. Aclaro que no soy un experto en QGIS, pero quiero compartir mi aprendizaje al iniciar porque sé que puede haber otras personas en la misma situación."
   ]
  },
  {
   "cell_type": "markdown",
   "id": "72d96451-1d80-4195-8465-d489f110d70c",
   "metadata": {},
   "source": [
    "# La consola de Python en QGIS\n",
    "\n",
    "Voy a trabajar desde la interfaz gráfica de QGIS, por lo que obviamente hay que tener [instalado QGIS](https://www.qgis.org/es/site/forusers/download.html) en la computadora. En otra entrada mostraré cómo instalar QGIS desde [Anaconda](https://www.anaconda.com/products/individual) para trabajar usando [JupyterLab](https://jupyter.org/).\n",
    "\n",
    "Una vez instalado y descargado QGIS, abrimos el programa e iniciamos un nuevo proyecto. En la barra de herramientas encontraremos el símbolo de Python. Al hacer clic se abrirá una consola de Python dentro de la ventana de QGIS. Si no ves el ícono, puedes acceder usando el menú en la pestaña `complementos >> Consola de Python`\n",
    "\n",
    "Como se ve en la siguiente imagen, la consola se divide en dos secciones, una es la ventana de resultados y la otro es la terminal de Python."
   ]
  },
  {
   "cell_type": "markdown",
   "id": "d5f60d16-75b4-497c-ba53-9fd1501278fe",
   "metadata": {},
   "source": [
    "![](images/intro_pyqgis_icono_python.png)"
   ]
  },
  {
   "cell_type": "markdown",
   "id": "2ad1cd7d-a12c-4b45-972b-f9148860d79e",
   "metadata": {},
   "source": [
    " En la terminal puedes escribir código de Python directamente y este se mostrará en la ventana de resultados, por ejemplo, si escribimos en la terminal:\n",
    "```python\n",
    "print(\"¡Hola mundo!\")\n",
    "```\n",
    "en la ventana de resultados se imprimirá el comando que escribimos y su resultado"
   ]
  },
  {
   "cell_type": "markdown",
   "id": "a5727139-f4f1-4bbc-8b54-1f4cbbf5db3e",
   "metadata": {},
   "source": [
    "![](images/intro_pyqgis_terminal.png)"
   ]
  },
  {
   "cell_type": "markdown",
   "id": "122009d8-e210-456f-bc4a-0d4dbb789942",
   "metadata": {},
   "source": [
    "Escrbir código en la terminal no es muy práctico, por eso es mejor usar el editor de scripts, al que se puede acceder al hacer clic en el ícono superior de una hoja con un lápiz. También (me parece) es mejor trabajar en una ventana separada, para ello hacemos clic en el ícono de la parte superior derecha con dos cuadritos (al lado de la X).\n",
    "\n",
    "En la nueva configuración, el editor de scripts aparece a la derecha y la ventana de resultados, junto con la terminal, del lado izquierdo. Podemos escribir código en el editor y ejecutarlo haciendo clic en el ícono superior en forma de triángulo verde (o con el atajo de teclado `ctrl + shift + e`), el resultado se imprime en la ventana de resultados.\n",
    "\n",
    "Se puede guardar el script con el ícono de disco, o se puede crear uno nuevo al hacer clic en el símbolo $+$"
   ]
  },
  {
   "cell_type": "markdown",
   "id": "b2afd953-0bf7-4f1f-a875-2344aeaac067",
   "metadata": {},
   "source": [
    "![](images/intro_pyqgis_script_0.png)"
   ]
  },
  {
   "cell_type": "markdown",
   "id": "de62d2ff-de21-4599-b0e4-4e01b8b46d69",
   "metadata": {},
   "source": [
    "# Básicos de PyQGIS\n",
    "\n",
    "Dentro de la consola de Python tenemos acceso a las librerías con las funciones importantes para poder manipular elementos de QGIS. Vamos a crear un nuevo script que se llame `intro_pyqgis_01.py`. En el importamos las funciones (constructores, para ser más precisos) `QgsProject, QgsVectorLayer` del módulo `qgis.core`.\n",
    "\n",
    "```python\n",
    "from qgis.core import QgsProject, QgsVectorLayer\n",
    "```\n",
    "Como sabemos, en QGIS se usan proyectos que contienen capas (_layers_). Las capas normalmente hacen referencia a archivos con datos geoespaciales, típicamente Shapefiles o GeoJSON, aunque también puede haber capas de otros tipos. Bueno, esa misma estructura la debemos tener en cuenta en PyQGIS. Debemos trabajar sobre un objeto tipo proyecto que contiene objetos de tipo capas. \n",
    "\n",
    "Vamos a iniciar manualmente un nuevo proyecto de QGIS (`proyecto >> Nuevo`) y lo guardamos en nuestro equipo con el nombre de `intro_pyqgis`. \n",
    "\n",
    "Ahora, vamos al editor de script y creamos una instancia de proyecto a partir del proyecto que actualmente está activo en QGIS:"
   ]
  },
  {
   "cell_type": "markdown",
   "id": "854c655d-0df8-48e1-88c7-14df6b542c03",
   "metadata": {},
   "source": [
    "```python\n",
    "from qgis.core import QgsProject, QgsVectorLayer\n",
    "proyecto = QgsProject.instance()\n",
    "```"
   ]
  },
  {
   "cell_type": "markdown",
   "id": "ccc03d3a-46f7-4bd2-8a5e-a2b10282a9d6",
   "metadata": {},
   "source": [
    "Al elecutar lo anterior no veremos que nada cambie, solo definimos el objeto proyecto.\n",
    "Podemos ecribir la siguiente línea en la terminal para verificar el archivo de proyecto que estamos usando:\n",
    "```python\n",
    "print(proyecto.fileName())\n",
    "```\n",
    "Que en mi caso arroja:\n",
    "```python\n",
    ">>> 'C:/Users/juan.santos/OneDrive/intro_pyqgis/intro_pyqgis.qgz'\n",
    "```\n",
    "\n",
    "Ahora hay que agregarle datos (capas). Para eso usamos la función `QgsVectorLayer`, que recibe dos argumentos: ruta del archivo geográfico y nombre de la capa.\n",
    "\n",
    "Los datos que usaremos son publicados por el portal de datos abiertos de la Ciudad de México (CDMX):\n",
    "* [colonias de la CDMX ]( https://datos.cdmx.gob.mx/dataset/coloniascdmx)\n",
    "* [Mercados públicos](https://datos.cdmx.gob.mx/dataset/mercados-publicos)\n",
    "\n",
    "Como los datos pueden cambiar en el futuro, dejo [aquí para descarga](https://s3.us-east-2.amazonaws.com/jjsantoso.com/blog/datos/datos.zip) los que yo usé en particular para este post.\n",
    "\n",
    "Ahora sí vamos a añadir una capa con los datos de las colonias de la CDMX que se va a llamar \"colonias_cdmx\"."
   ]
  },
  {
   "cell_type": "markdown",
   "id": "8e14a061-648c-427f-b5f2-fc6c9c43f943",
   "metadata": {},
   "source": [
    "```python\n",
    "## intro_pyqgis_01.py\n",
    "from qgis.core import QgsProject, QgsVectorLayer\n",
    "\n",
    "# Ruta a la carpeta datos\n",
    "dir_data = \"datos\"\n",
    "\n",
    "proyecto = QgsProject.instance()\n",
    "\n",
    "# Nombre de la capa\n",
    "nombre_layer_colonias = \"colonias_cdmx\"\n",
    "\n",
    "# crea la capa\n",
    "layer_colonias = QgsVectorLayer(f\"{dir_data}/colonias_iecm_2019/mgpc_2019.shp\", nombre_layer_colonias)\n",
    "\n",
    "# Añade la capa\n",
    "proyecto.addMapLayer(layer_colonias)\n",
    "```"
   ]
  },
  {
   "cell_type": "markdown",
   "id": "e5b505c4-42f6-4a56-9558-59bf873a4da9",
   "metadata": {},
   "source": [
    "Ahora sí veremos que en la ventana principal de QGIS se carga el mapa de colonias."
   ]
  },
  {
   "cell_type": "markdown",
   "id": "1b36fe49-e395-4e68-b6bf-20b1cbab7a59",
   "metadata": {},
   "source": [
    "![](images/intro_pyqgis_01.png)"
   ]
  },
  {
   "cell_type": "markdown",
   "id": "82ecc624-aeaf-4d4a-9ded-2db052f0b33f",
   "metadata": {},
   "source": [
    "¡Y así de fácil es cargar datos! Sin embargo, debemos de tener cuidado porque si corremos el mismo script varias veces se cargará la misma capa muchas veces, ya que QGIS permite cargar múltiples veces el mismo archivo."
   ]
  },
  {
   "cell_type": "markdown",
   "id": "13f67003-d76e-481d-aced-2626f47e001e",
   "metadata": {},
   "source": [
    "![](images/intro_pyqgis_02.png)"
   ]
  },
  {
   "cell_type": "markdown",
   "id": "5c2bbcab-d520-413c-941d-bf6d312526ce",
   "metadata": {},
   "source": [
    "Para evitar eso, vamos a modificar el script e incluir una pequeña condición que primero verifica si ya existe en el proyecto una capa con el mismo nombre. En caso de que no esxista, entonces carga la capa, si ya existe, entonces no hace nada más. De esta forma podemos ejecutar el archivo `intro_pyqgis_01.py` tantas veces queramos sin cargar la misma capa."
   ]
  },
  {
   "cell_type": "markdown",
   "id": "447a6df2-f8af-45c5-b571-0c0b592cb239",
   "metadata": {},
   "source": [
    "```python\n",
    "## intro_pyqgis_01.py\n",
    "from qgis.core import QgsProject, QgsVectorLayer\n",
    "\n",
    "# Ruta a la carpeta datos\n",
    "dir_data = \"datos\"\n",
    "\n",
    "proyecto = QgsProject.instance()\n",
    "\n",
    "# Nombre de la capa\n",
    "nombre_layer_colonias = \"colonias_cdmx\"\n",
    "\n",
    "# crea la capa\n",
    "layer_colonias = QgsVectorLayer(f\"{dir_data}/colonias_iecm_2019/mgpc_2019.shp\", nombre_layer_colonias)\n",
    "\n",
    "# verifica si la capa ya existe\n",
    "if not proyecto.mapLayersByName(nombre_layer_colonias):\n",
    "    # Si no existe, Añade la capa\n",
    "    proyecto.addMapLayer(layer_colonias)\n",
    "```"
   ]
  },
  {
   "cell_type": "markdown",
   "id": "dcb5bfca-ade3-4406-a025-a10cc3a5f1a7",
   "metadata": {},
   "source": [
    "Pues estos (_QgsProject_ y _QgsVectorLayer_) me parece que son los tipos de objeto más básicos que hay que entender para empezar en PyQGIS (y saber que hay muchos, muchos más tipos de objetos).\n",
    "\n",
    "Como todo objeto en Python, los proyectos y capas tienen métodos y atributos. De hecho, tienen muchos métodos y atributos, por lo que es dificil saber qué es lo que uno necesita. Ya vimos por ejemplo, un método para obtener el nombre del archivo del proyecto que estamos usando, y también cómo añadir una capa a un proyecto. Si queremos saber todos los métodos disponibles para un objeto projecto podemos [consultar la documentación](https://qgis.org/pyqgis/3.0/core/Project/QgsProject.html?highlight=title#module-QgsProject).\n",
    "\n",
    "De ahí podemos obtener algunos datos útiles para trabajar:\n",
    "```python\n",
    "print(\"Número de capas en el proyecto\", proyecto.count())\n",
    "print(\"CRS del proyecto\", proyecto.crs().description())\n",
    "print(\"Directorio del proyecto\", proyecto.homePath())\n",
    "```\n",
    "resultado:\n",
    "```\n",
    "Número de capas en el proyecto 1\n",
    "CRS del proyecto WGS 84 / UTM zone 14N\n",
    "Directorio del proyecto C:/Users/juan.santos/OneDrive/intro_pyqgis\n",
    "```"
   ]
  },
  {
   "cell_type": "markdown",
   "id": "65377d1b-9d62-4d1a-9f71-2f28bdfdd605",
   "metadata": {},
   "source": [
    "Igualmente, de las capas podemos encontrar cosas muy interesantes, como el número de filas y columnas que tienen los datos asociados, o el sistema de coordenadas. Consulta aquí la documentación de los objetos [_QgsVectorLayer_](https://qgis.org/pyqgis/3.0/core/Vector/QgsVectorLayer.html?highlight=qgsvectorlayer#module-QgsVectorLayer)"
   ]
  },
  {
   "cell_type": "markdown",
   "id": "8f618fed-b419-4005-a553-f535d59b5e27",
   "metadata": {},
   "source": [
    "```python\n",
    "print(\"Número de filas:\", layer_colonias.featureCount())\n",
    "print(\"Número de columnas:\", len(layer_colonias.fields()))\n",
    "print(\"Sistema de coordenadas:\", layer_colonias.crs().description())\n",
    "```\n",
    "resultado:\n",
    "```\n",
    "Número de filas: 1815\n",
    "Número de columnas: 8\n",
    "Sistema de coordenadas: WGS 84 / UTM zone 14N\n",
    "```"
   ]
  },
  {
   "cell_type": "markdown",
   "id": "5f579124-957c-44d3-a670-e9cca5c18902",
   "metadata": {},
   "source": [
    "Así que ya sabemos que hay 1815 colonias incluídas en este archivo y que tiene 8 columnas. ¿Cuál es el nombre de las columnas y de qué tipo son?:\n",
    "\n",
    "```python\n",
    "for f in layer_colonias.fields():\n",
    "    print(f.name(), f.typeName())\n",
    "```\n",
    "resultado:\n",
    "```\n",
    "ENT String\n",
    "CVEDT String\n",
    "NOMDT String\n",
    "DTTOLOC String\n",
    "CVEUT String\n",
    "NOMUT String\n",
    "POB2010 String\n",
    "ID Integer\n",
    "```"
   ]
  },
  {
   "cell_type": "markdown",
   "id": "d95e274b-6bef-4100-b9cd-cc211c6fa6d2",
   "metadata": {},
   "source": [
    "También podemos obtener los datos de una fila en particular de la capa con el método `.getFeature()`. El resultado es un [objeto tipo `QgsFeature`](https://qgis.org/pyqgis/3.0/core/Feature/QgsFeature.html?highlight=qgsfeature#module-QgsFeature). En este caso por ejemplo obtenemos la fila en la posición 11 del archivo y vemos los datos que contiene.\n",
    "```python\n",
    "feature = layer_colonias.getFeature(10)\n",
    "print(feature)\n",
    "print(feature.attributes())\n",
    "```\n",
    "resultado:\n",
    "```python\n",
    "<qgis._core.QgsFeature object at 0x000001A94F2EBB80>\n",
    "['9', '2', 'AZCAPOTZALCO', '05', '02-013', 'CUITLÃ\\x81HUAC 1 Y 2 (U HAB)', '2449', 11]\n",
    "```"
   ]
  },
  {
   "cell_type": "markdown",
   "id": "815616fb-2c3d-4cee-b5f9-31218dec0783",
   "metadata": {},
   "source": [
    "Y así, podemos seguir obteniendo más objetos. Por ejemplo del feature anterior podemos obtener la geometría, que es un [objeto tipo _QgsGeometry: Multipolygon_](https://qgis.org/pyqgis/3.0/core/Geometry/QgsGeometry.html?highlight=qgsgeometry). De la geometría, podemos obtener el centroide, que es un _QgsGeometry: Point_\n",
    "\n",
    "```python\n",
    "geom = feature.geometry()\n",
    "print(geom.centroid())\n",
    "```\n",
    "resultado:\n",
    "```\n",
    "<QgsGeometry: Point (482445.29628468106966466 2153086.92174857435747981)>\n",
    "```"
   ]
  },
  {
   "cell_type": "markdown",
   "id": "d2699270-4893-4e0f-a32e-5ac91ae364ea",
   "metadata": {},
   "source": [
    "y así le vamos entendiendo de a poco, hasta parece sencillo.\n",
    "\n",
    "Es muy interesante porque conociendo bien esta lógica podemos integrar muy bien QGIS con las demás herramientas de Python. Por ejemplo, solo por diversión, vamos a hacer una gráfica de la colonia que seleccionamos usando [`matplotlib`](https://matplotlib.org/), que ya viene instalado dentro del entorno de QGIS.\n",
    "\n",
    "```python\n",
    "import matplotlib.pyplot as plt\n",
    "import json\n",
    "\n",
    "coords = json.loads(geom.asJson())[\"coordinates\"][0][0]\n",
    "coords_centroide = json.loads(geom.centroid().asJson())[\"coordinates\"]\n",
    "x, y = [[xy[n] for xy in coords] for n in [0, 1]]\n",
    "ax = plt.subplot()\n",
    "ax.plot(x, y)\n",
    "ax.plot([coords_centroide[0]], [coords_centroide[1]], 'bo')\n",
    "ax.text(x=coords_centroide[0], y=coords_centroide[1], s=feature.attribute(\"NOMUT\"))\n",
    "ax.figure.show()\n",
    "\n",
    "```"
   ]
  },
  {
   "cell_type": "markdown",
   "id": "912d6830-8ec3-4b21-a6e5-501112ca3d11",
   "metadata": {},
   "source": [
    "![](images/intro_pyqgis_03.png)"
   ]
  },
  {
   "cell_type": "markdown",
   "id": "9769696d-2c62-4f14-85ac-18911b454d8c",
   "metadata": {},
   "source": [
    "![](images/esto-lo-hago-pa-divertirme.jpg)"
   ]
  },
  {
   "cell_type": "markdown",
   "id": "36f24ffb-32dd-467b-ac34-0887b440869a",
   "metadata": {},
   "source": [
    "Así queda el script `ìntro_pyqgis_01.py` completo:\n",
    "```python\n",
    "# ìntro_pyqgis_01.py\n",
    "from qgis.core import QgsProject, QgsVectorLayer\n",
    "\n",
    "proyecto = QgsProject.instance()\n",
    "\n",
    "dir_data = \"datos\"\n",
    "nombre_layer_colonias = \"colonias_cdmx\"\n",
    "layer_colonias = QgsVectorLayer(f\"{dir_data}/colonias_iecm_2019/mgpc_2019.shp\", nombre_layer_colonias)\n",
    "if not proyecto.mapLayersByName(nombre_layer_colonias):\n",
    "    proyecto.addMapLayer(layer_colonias)\n",
    "\n",
    "print(\"Número de capas en el proyecto:\", proyecto.count())\n",
    "print(\"CRS del proyecto:\", proyecto.crs().description())\n",
    "print(\"Directorio del proyecto:\", proyecto.homePath())\n",
    "\n",
    "print(\"Número de filas:\", layer_colonias.featureCount())\n",
    "print(\"Número de columnas:\", len(layer_colonias.fields()))\n",
    "print(\"Sistema de coordenadas:\", layer_colonias.crs().description())\n",
    "\n",
    "for f in layer_colonias.fields():\n",
    "    print(f.name(), f.typeName())\n",
    "#\n",
    "feature = layer_colonias.getFeature(10)\n",
    "print(feature)\n",
    "print(feature.attributes())\n",
    "#\n",
    "geom = feature.geometry()\n",
    "print(geom.centroid())\n",
    "\n",
    "import matplotlib.pyplot as plt\n",
    "import json\n",
    "coords = json.loads(geom.asJson())[\"coordinates\"][0][0]\n",
    "coords_centroide = json.loads(geom.centroid().asJson())[\"coordinates\"]\n",
    "x, y = [[xy[n] for xy in coords] for n in [0, 1]]\n",
    "ax = plt.subplot()\n",
    "ax.plot(x, y)\n",
    "ax.plot([coords_centroide[0]], [coords_centroide[1]], 'bo')\n",
    "ax.text(x=coords_centroide[0], y=coords_centroide[1], s=feature.attribute(\"NOMUT\"))\n",
    "ax.figure.show()\n",
    "```"
   ]
  },
  {
   "cell_type": "markdown",
   "id": "5f064a0b-1473-4f3e-9255-748cce3c2769",
   "metadata": {},
   "source": [
    "# Operaciones con/entre capas\n",
    "\n",
    "Uno de los usos que le podemos dar a PyQGIS, y en particular fue la razón por la que lo empecé a usar, es para automatizar operaciones con o entre capas.\n",
    "\n",
    "Por ejemplo, yo estaba creando polígonos manualmente y cada tanto tenía que revisar que no tuvieran errores. Inicialmente hacía esto siguiendo la ruta del menú `Vectorial >> Herramientas de Geometría >> Comprobar Validez` y seleccionaba las opciones para que el algoritmo se ejecutara. Todo esto era repetitivo y además era medio molesto, porque como resultado de la ejecución siempre añadía 3 capas al proyecto, que me tocaba retirar manualmente. Entonces fue cuando descubrí que podía programar la operación de validación y así solo tenía que ejecutar el script cuando lo necesitara. Luego seguí automatizando otras operaciones que eran repetitivas.\n",
    "\n",
    "Casi toda operación con capas que se puede hacer usando las opciones del menú de QGIS se puede hacer también usando PyQGIS de una manera relativamente sencilla. Podemos ver todas las operaciones/algoritmos disponibles en el menú `Procesos > Caja de herramientas`. En la caja de búsqueda podemos buscar alguna operación, por ejemplo, si lo que me interesa es calcular los centroides de una capa escribo `centroide` y obtengo los algoritmos relacionados:"
   ]
  },
  {
   "cell_type": "markdown",
   "id": "4fc135fc-13b3-466a-a3d9-8e8154a50d41",
   "metadata": {},
   "source": [
    "![](images/caja_algoritmos.png)"
   ]
  },
  {
   "cell_type": "markdown",
   "id": "73949234-2736-4319-93ee-c45493415689",
   "metadata": {},
   "source": [
    "Al pasar el cursos por encima de cualquier algoritmo aparece una pequeña nota con el ID del algoritmo en cuestión (`native:centroids`), lo que nos permitirá identificarlo para trabajar con PyQGIS. "
   ]
  },
  {
   "cell_type": "markdown",
   "id": "906c9ac7-6a6a-468b-9e2d-fdbc742d8d66",
   "metadata": {},
   "source": [
    "## Centroides"
   ]
  },
  {
   "cell_type": "markdown",
   "id": "63fd9968-37c5-422b-ab9b-401151698bf6",
   "metadata": {},
   "source": [
    "Para usar estos algoritmos necesitamos importar la librería `processing`. Con el ID del algoritmo podemos consultar en la terminal la información sobre los parámetros que espera recibir. Creamos un nuevo script con el nombre `intro_pyqgis_02.py` y ponemos las siguientes líneas:\n",
    "\n",
    "```python\n",
    "# intro_pyqgis_02.py\n",
    "import processing\n",
    "processing.algorithmHelp(\"native:centroids\")\n",
    "```\n",
    "que imprimen lo siguiente:\n",
    "```\n",
    "Centroides (native:centroids)\n",
    "\n",
    "Este algoritmo crea una capa de puntos nueva, con puntos que representan el centroide de las geometrías de la capa de entrada.\n",
    "\n",
    "Los atributos asociados a cada punto de la capa de salida son los mismos asociados a los objetos originales.\n",
    "\n",
    "\n",
    "----------------\n",
    "Input parameters\n",
    "----------------\n",
    "\n",
    "INPUT: Capa de entrada\n",
    "\n",
    "\tParameter type:\tQgsProcessingParameterFeatureSource\n",
    "\n",
    "\tAccepted data types:\n",
    "\t\t- str: ID de la capa\n",
    "\t\t- str: Nombre de capa\n",
    "\t\t- str: Fuente de la capa\n",
    "\t\t- QgsProcessingFeatureSourceDefinition\n",
    "\t\t- QgsProperty\n",
    "\t\t- QgsVectorLayer\n",
    "\n",
    "ALL_PARTS: Crear centroide para cada parte\n",
    "\n",
    "\tParameter type:\tQgsProcessingParameterBoolean\n",
    "\n",
    "\tAccepted data types:\n",
    "\t\t- bool\n",
    "\t\t- int\n",
    "\t\t- str\n",
    "\t\t- QgsProperty\n",
    "\n",
    "OUTPUT: Centroides\n",
    "\n",
    "\tParameter type:\tQgsProcessingParameterFeatureSink\n",
    "\n",
    "\tAccepted data types:\n",
    "\t\t- str: archivo vectorial de destino, ej. 'd:/test.shp'\n",
    "\t\t- str: 'memory:' para guardar el resultado en una capa temporal en memoria\n",
    "\t\t- str: utilizando prefijo ID del proveedor vectorial y URI de destino, por ejemplo 'postgres:...' para guardar el resultado en una tabla PostGIS\n",
    "\t\t- QgsProcessingOutputLayerDefinition\n",
    "\t\t- QgsProperty\n",
    "\n",
    "----------------\n",
    "Outputs\n",
    "----------------\n",
    "\n",
    "OUTPUT:  <QgsProcessingOutputVectorLayer>\n",
    "\tCentroides\n",
    "```"
   ]
  },
  {
   "cell_type": "markdown",
   "id": "66c1a8d7-3b5b-402a-8301-d44ebfc76866",
   "metadata": {},
   "source": [
    "Con esta información sabemos que hay tres parámetros que puede recibir como input este algoritmo:\n",
    "- INPUT: Es la capa de la que se van a calcular los centroides.\n",
    "- ALL_PARTS: Indica si se va a crear centroide para cada parte, en caso de que se trate de multipolígonos\n",
    "- OUTPUT: dónde va a guardar el resultado. Puede ser un archivo o una capa temporal.\n",
    "\n",
    "Algunos parámetros pueden ser opcionales. Estos se van a pasar a PyQGIS en un diccionario.\n",
    "\n",
    "Así es como podemos ejecutar este algoritmo sobre la capa de `colonias_cdmx`:\n",
    "\n",
    "```python\n",
    "# intro_pyqgis_02.py\n",
    "from qgis.core import QgsProject, QgsVectorLayer\n",
    "import processing\n",
    "\n",
    "proyecto = QgsProject.instance()\n",
    "\n",
    "dir_data = \"datos\"\n",
    "nombre_layer_colonias = \"colonias_cdmx\"\n",
    "if not proyecto.mapLayersByName(nombre_layer_colonias):\n",
    "    layer_colonias = QgsVectorLayer(f\"{dir_data}/colonias_iecm_2019/mgpc_2019.shp\", nombre_layer_colonias)\n",
    "    proyecto.addMapLayer(layer_colonias)\n",
    "\n",
    "params = {\n",
    "    'INPUT' : nombre_layer_colonias,\n",
    "    'ALL_PARTS' : False,\n",
    "    'OUTPUT' :'TEMPORARY_OUTPUT' \n",
    "}\n",
    "\n",
    "out = processing.run(\"native:centroids\", params)\n",
    "```\n",
    "Que desafortunadamente nos arroja el siguiente error:\n",
    "```\n",
    "_core.QgsProcessingException: Feature (11) from “colonias_cdmx” has invalid geometry. Please fix the geometry or change the Processing setting to the “Ignore invalid input features” option.\n",
    "```"
   ]
  },
  {
   "cell_type": "markdown",
   "id": "4f1a6a74-932d-4f9f-9451-c988225ee9fa",
   "metadata": {},
   "source": [
    "Esto debido a que la capa de colonias tiene errores en su creación :(. En un caso donde la capa no tuviera errores el algoritmo corriera sin problema y el resultado se guadaría en `out`.\n",
    "\n",
    "Ahora usemos el algoritmo `qgis:checkvalidity` para verificar qué está mal con esta capa."
   ]
  },
  {
   "cell_type": "markdown",
   "id": "4d07acfc-edd2-4cff-9425-70d16552ba10",
   "metadata": {},
   "source": [
    "## Validación\n",
    "\n",
    "No voy a ahondar mucho en los detalles de los INPUTS de este algoritmo, pero pueden revisarlo con \n",
    "```python\n",
    "processing.algorithmHelp(\"qgis:checkvalidity\")\n",
    "```\n",
    "\n",
    "Solo notemos que estoy guardando el resultado en la variable `out_validacion` y que verifico si el algoritmo detecta características inválidas en la geometría. Si es así, entonces verifico si la capa resultante ya está en el proyecto. Si es así, entonces remuevo la capa existente. Luego, añado la capa que contiene los errores al proyecto. Esta lógica de remover y volver a añadir la capa se justifica porque en teoría yo esperaría que si detecto errores tendría que editar la capa original y luego ir verificando si el error se solucionó.\n",
    "Creamos un nuevo script con el nombre `intro_pyqgis_03.py` y ponemos las siguientes líneas:"
   ]
  },
  {
   "cell_type": "markdown",
   "id": "d8445b3d-c233-402e-9d05-fea180a40454",
   "metadata": {},
   "source": [
    "```python\n",
    "# intro_pyqgis_03.py\n",
    "from qgis.core import QgsProject, QgsVectorLayer\n",
    "import processing\n",
    "\n",
    "proyecto = QgsProject.instance()\n",
    "\n",
    "dir_data = \"datos\"\n",
    "nombre_layer_colonias = \"colonias_cdmx\"\n",
    "if not proyecto.mapLayersByName(nombre_layer_colonias):\n",
    "    layer_colonias = QgsVectorLayer(f\"{dir_data}/colonias_iecm_2019/mgpc_2019.shp\", nombre_layer_colonias)\n",
    "    proyecto.addMapLayer(layer_colonias)\n",
    "\n",
    "params_validacion = {\n",
    "    'ERROR_OUTPUT' : 'TEMPORARY_OUTPUT',\n",
    "    'IGNORE_RING_SELF_INTERSECTION' : False,\n",
    "    'INPUT_LAYER' : layer_colonias,\n",
    "    'INVALID_OUTPUT' : 'TEMPORARY_OUTPUT',\n",
    "    'METHD' : 2,\n",
    "    'VALID_OUTPUT' :'TEMPORARY_OUTPUT' \n",
    "}\n",
    "\n",
    "out_validacion = processing.run(\"qgis:checkvalidity\", params_validacion)\n",
    "\n",
    "if out_validacion['INVALID_COUNT']:\n",
    "    layer_error_existente = proyecto.mapLayersByName(out_validacion['ERROR_OUTPUT'].name())\n",
    "    if layer_error_existente:\n",
    "        proyecto.removeMapLayer(layer_error_existente[0])\n",
    "    print('Puntos erróneos', out_validacion['INVALID_COUNT'])\n",
    "    proyecto.addMapLayer(out_validacion['ERROR_OUTPUT'])\n",
    "\n",
    "```\n",
    "El resultado se ve así:"
   ]
  },
  {
   "cell_type": "markdown",
   "id": "0a12082f-c038-4b64-b0e4-2830cc56a47a",
   "metadata": {},
   "source": [
    "![](images/intro_pyqgis_capa_error.png)"
   ]
  },
  {
   "cell_type": "markdown",
   "id": "97d89f3c-40f3-46f3-9d32-d4959a05f033",
   "metadata": {
    "tags": []
   },
   "source": [
    "Se añadió al proyecto la capa (temporal) \"Salida Errónea\", que tiene 39 puntos señalando dónde hay errores en la capa de \"colonias_cdmx\". Como son muchos, no los vamos a corregir ahora.\n",
    "\n",
    "Pero aún queremos ver el resultado de la operación de centroides a pesar de los errores, así que vamos a usar una opción que nos permite saltarse la validación y ejecutar la operación. Para eso vamos aimportar dos funciones más: `QgsProcessingFeatureSourceDefinition` y `QgsFeatureRequest`.\n",
    "\n",
    "Creamos un nuevo script con el nombre `intro_pyqgis_04.py` y ponemos las siguientes líneas:\n",
    "```python\n",
    "# intro_pyqgis_04.py\n",
    "from qgis.core import QgsProject, QgsVectorLayer, QgsProcessingFeatureSourceDefinition, QgsFeatureRequest, QgsVectorFileWriter\n",
    "import processing\n",
    "\n",
    "proyecto = QgsProject.instance()\n",
    "\n",
    "dir_data = \"datos\"\n",
    "nombre_layer_colonias = \"colonias_cdmx\"\n",
    "if not proyecto.mapLayersByName(nombre_layer_colonias):\n",
    "    layer_colonias = QgsVectorLayer(f\"{dir_data}/colonias_iecm_2019/mgpc_2019.shp\", nombre_layer_colonias)\n",
    "    proyecto.addMapLayer(layer_colonias)\n",
    "\n",
    "params = {\n",
    "    'INPUT' : QgsProcessingFeatureSourceDefinition(nombre_layer_colonias, selectedFeaturesOnly=False, featureLimit=-1, flags=QgsProcessingFeatureSourceDefinition.FlagOverrideDefaultGeometryCheck, geometryCheck=QgsFeatureRequest.GeometrySkipInvalid),\n",
    "    'ALL_PARTS' : False,\n",
    "    'OUTPUT' :'TEMPORARY_OUTPUT' \n",
    "}\n",
    "\n",
    "out = processing.run(\"native:centroids\", params)\n",
    "layer_centroides = out['OUTPUT']\n",
    "if not proyecto.mapLayersByName(layer_centroides.name()):\n",
    "    proyecto.addMapLayer(layer_centroides)\n",
    "```"
   ]
  },
  {
   "cell_type": "markdown",
   "id": "51c299e6-c4f1-4ca6-af6f-51f967597085",
   "metadata": {},
   "source": [
    "¡Ahora sí se completó el proceso! y así se ve el resultado:\n",
    "\n",
    "![](images/intro_pyqgis_centroides.png)"
   ]
  },
  {
   "cell_type": "markdown",
   "id": "90cad8ee-85e3-44ce-a6df-0e1a781cdceb",
   "metadata": {},
   "source": [
    "Por último, si quiero guardar el resultado de la capa de centroides puedo exportarla a un archivo con la siguiente línea:\n",
    "```python\n",
    "QgsVectorFileWriter.writeAsVectorFormat(layer_centroides, f\"{dir_data}/centroides_colonias.geojson\",  'utf-8', layer_centroides.crs(), 'GeoJson')\n",
    "```\n",
    " Se puede exportar a varios formatos populares como shapefile, GeoJSON o GeoPackage.\n",
    " "
   ]
  },
  {
   "cell_type": "markdown",
   "id": "fa476e2d-74b4-499d-b49d-7ecdcd4cd11f",
   "metadata": {},
   "source": [
    "## Unión espacial\n",
    "\n",
    "Por último voy a dejar otro ejemplo de un procesamiento espacial, en este caso, una [unión espacial (spatial join)](https://mappinggis.com/2017/03/como-realizar-una-union-espacial-spatial-join-con-qgis/) entre la capa de colonias y una con la ubicación de los mercados públicos de la CDMX. El resultado de esta unión es una capa temporal (`Capa Unida`) que contiene solo las colonias donde hay al menos un mercado público. \n",
    "\n",
    "Creamos un nuevo script con el nombre `intro_pyqgis_05.py` y ponemos las siguientes líneas:"
   ]
  },
  {
   "cell_type": "markdown",
   "id": "fb600489-0a7b-46fa-86a1-d60afe77a49b",
   "metadata": {},
   "source": [
    "```python\n",
    "# intro_pyqgis_05.py\n",
    "from qgis.core import QgsProject, QgsVectorLayer, QgsProcessingFeatureSourceDefinition, QgsFeatureRequest, QgsVectorFileWriter\n",
    "import processing\n",
    "\n",
    "proyecto = QgsProject.instance()\n",
    "\n",
    "dir_data = \"datos\"\n",
    "nombre_layer_colonias = \"colonias_cdmx\"\n",
    "if not proyecto.mapLayersByName(nombre_layer_colonias):\n",
    "    layer_colonias = QgsVectorLayer(f\"{dir_data}/colonias_iecm_2019/mgpc_2019.shp\", nombre_layer_colonias)\n",
    "    proyecto.addMapLayer(layer_colonias)\n",
    "\n",
    "nombre_layer_mercados = \"mercados\"\n",
    "if not proyecto.mapLayersByName(nombre_layer_mercados):\n",
    "    layer_mercados = QgsVectorLayer(f\"{dir_data}/mercados/mercados_publicos.geojson\", nombre_layer_mercados)\n",
    "    proyecto.addMapLayer(layer_mercados)\n",
    "    \n",
    "params_sjoin = {\n",
    "    'INPUT': QgsProcessingFeatureSourceDefinition(nombre_layer_colonias, selectedFeaturesOnly=False, featureLimit=-1, flags=QgsProcessingFeatureSourceDefinition.FlagOverrideDefaultGeometryCheck, geometryCheck=QgsFeatureRequest.GeometrySkipInvalid),\n",
    "    'JOIN': layer_mercados,\n",
    "    'PREDICATE': 1,\n",
    "    'OUTPUT': 'TEMPORARY_OUTPUT', \n",
    "    'DISCARD_NONMATCHING': True,\n",
    "}\n",
    "out_sjoin = processing.run(\"qgis:joinattributesbylocation\", params_sjoin)\n",
    "layer_union = out_sjoin['OUTPUT']\n",
    "\n",
    "layer_sjoin_existente = proyecto.mapLayersByName(layer_union.name())\n",
    "if layer_sjoin_existente:\n",
    "    proyecto.removeMapLayer(layer_sjoin_existente[0])\n",
    "    \n",
    "print('Features resultantes', out_sjoin['JOINED_COUNT'])\n",
    "proyecto.addMapLayer(layer_union)\n",
    "```\n",
    "El resultado es el siguiente:"
   ]
  },
  {
   "cell_type": "markdown",
   "id": "5e17f9bf-6411-403a-9aff-0062504dc421",
   "metadata": {},
   "source": [
    "![](images/intro_pyqgis_sjoin.png)"
   ]
  },
  {
   "cell_type": "markdown",
   "id": "97390e9c-7b21-4af2-974a-a318a82c390a",
   "metadata": {},
   "source": [
    "# Conclusión\n",
    "\n",
    "Como hemos visto, PyQGIS es una herramienta muy poderosa que nos puede ayudar a automatizar procesos al trabajar con QGIS. Puede que la curva de aprendizaje no sea la más fácil, pero con la documentación y preguntas en internet se puede llegar a realizar la mayoría de tareas cotidianas de un analista de datos geográficos.\n",
    "\n",
    "Por último les dejo algunos recursos que he encontrado y me han parecido muy valiosos al seguir este camino:\n",
    "* El curso de Anita Graser es fantástico: https://anitagraser.com/pyqgis-101-introduction-to-qgis-python-programming-for-non-programmers/\n",
    "* La documentación oficial: https://docs.qgis.org/3.16/en/docs/pyqgis_developer_cookbook/index.html\n",
    "* Estos videos de José Vivente Pérez Peña: [Introducción a PyQGIS](https://www.youtube.com/watch?v=PvmuLDPo9Eo) y [Acceso a features en PyQGIS](https://www.youtube.com/watch?v=_AJ1e6lotao)\n",
    "* No lo comentamos aquí, pero PyQGIS también tiene una interfaz llamada iface para manejar la interfaz visual de QGIS. En este video hay una muy buena introducción: https://gidahatari.com/ih-es/introduccion-a-pyqgis-en-entorno-de-python-dentro-de-qgis\n"
   ]
  },
  {
   "cell_type": "markdown",
   "id": "9f2ec5f5-be54-4417-817f-da61d3a7e311",
   "metadata": {},
   "source": [
    "## Revisa otras entradas de este blog:\n",
    "* [Integración de PyQGIS con Jupyter Lab usando Anaconda](/pyqgis-anaconda)\n",
    "* [Mapas de puntos con Python](/mapas-distribucion-puntos/)\n",
    "* [Introducción a bases de datos relacionales y SQL para científicos sociales](/intro-sql-sociales/)\n",
    "* [Recuadros para mapas en Geopandas](/zoom-mapas-geopandas/)\n",
    "* [Etiquetado de variables y valores en las encuestas de INEGI usando Python](/etiquetas-encuestas-inegi/)\n",
    "* [Generando archivos de Excel con formatos y gráficas usando Python](/excel-formato-graficas/)\n",
    "* [Trabajando con archivos de Excel complejos en Pandas](/pandas-excel/)\n"
   ]
  }
 ],
 "metadata": {
  "kernelspec": {
   "display_name": "Python 3",
   "language": "python",
   "name": "python3"
  },
  "language_info": {
   "codemirror_mode": {
    "name": "ipython",
    "version": 3
   },
   "file_extension": ".py",
   "mimetype": "text/x-python",
   "name": "python",
   "nbconvert_exporter": "python",
   "pygments_lexer": "ipython3",
   "version": "3.8.8"
  }
 },
 "nbformat": 4,
 "nbformat_minor": 5
}
