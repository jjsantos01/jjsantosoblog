{
 "cells": [
  {
   "cell_type": "markdown",
   "metadata": {},
   "source": [
    "# \"Redes y contratos públicos\"\n",
    "\n",
    "> Resultado del análisis que hicimos en el equipo Databuesos para el Datatón Anticorrupción 2019 (México)\n",
    "- author: \"<a href='https://twitter.com/jjsantoso'>Juan J Santos Ochoa</a>\"\n",
    "- toc: false\n",
    "- comments: true\n",
    "- categories: [analisis de datos, pandas, pymongo]"
   ]
  },
  {
   "cell_type": "markdown",
   "metadata": {},
   "source": [
    "# Imports y globals "
   ]
  },
  {
   "cell_type": "markdown",
   "metadata": {},
   "source": [
    "## Imports"
   ]
  },
  {
   "cell_type": "code",
   "execution_count": 278,
   "metadata": {},
   "outputs": [],
   "source": [
    "import pymongo\n",
    "import pandas as pd\n",
    "import json\n",
    "import matplotlib.pyplot as plt\n",
    "import networkx as nx\n",
    "from NetworkUtils import draw_network"
   ]
  },
  {
   "cell_type": "markdown",
   "metadata": {},
   "source": [
    "## globals"
   ]
  },
  {
   "cell_type": "code",
   "execution_count": 3,
   "metadata": {},
   "outputs": [],
   "source": [
    "# Iniciar la base de datos con  mongod --dbpath=\"d:\\mongodb\\data\"\n",
    "dir_datos = 'd:/datos/licitaciones_compranet'\n",
    "myclient = pymongo.MongoClient(\"mongodb://localhost:27017/\")\n",
    "mydb = myclient['dataton2019']"
   ]
  },
  {
   "cell_type": "markdown",
   "metadata": {
    "heading_collapsed": true
   },
   "source": [
    "## Funciones"
   ]
  },
  {
   "cell_type": "code",
   "execution_count": null,
   "metadata": {
    "hidden": true
   },
   "outputs": [],
   "source": []
  },
  {
   "cell_type": "markdown",
   "metadata": {},
   "source": [
    "# Análisis de asociados"
   ]
  },
  {
   "cell_type": "markdown",
   "metadata": {},
   "source": [
    "## Contacpoints\n",
    "\n",
    "### Creación de la base\n",
    "\n",
    "* Creamos una base de datos que tenga identificado a cada punto de contacto.\n",
    "* Los puntos de contacto se obtienen a partir de los contratistas que tienen información o su dirección."
   ]
  },
  {
   "cell_type": "code",
   "execution_count": 59,
   "metadata": {},
   "outputs": [],
   "source": [
    "resultado = mydb.contrataciones.find({},  {'_id': 0, 'parties.contactPoint': 1, 'parties.roles': 1, 'parties.id': 1, 'parties.address': 1})"
   ]
  },
  {
   "cell_type": "code",
   "execution_count": 60,
   "metadata": {},
   "outputs": [
    {
     "data": {
      "text/html": [
       "<div>\n",
       "<style scoped>\n",
       "    .dataframe tbody tr th:only-of-type {\n",
       "        vertical-align: middle;\n",
       "    }\n",
       "\n",
       "    .dataframe tbody tr th {\n",
       "        vertical-align: top;\n",
       "    }\n",
       "\n",
       "    .dataframe thead th {\n",
       "        text-align: right;\n",
       "    }\n",
       "</style>\n",
       "<table border=\"1\" class=\"dataframe\">\n",
       "  <thead>\n",
       "    <tr style=\"text-align: right;\">\n",
       "      <th></th>\n",
       "      <th>name</th>\n",
       "      <th>email</th>\n",
       "      <th>telephone</th>\n",
       "      <th>streetAddress</th>\n",
       "      <th>locality</th>\n",
       "      <th>region</th>\n",
       "      <th>postalCode</th>\n",
       "      <th>countryName</th>\n",
       "      <th>tenderer_id</th>\n",
       "      <th>faxNumber</th>\n",
       "    </tr>\n",
       "  </thead>\n",
       "  <tbody>\n",
       "    <tr>\n",
       "      <th>0</th>\n",
       "      <td>IRAM LIEVANOS VELAZQUEZ</td>\n",
       "      <td>laroca.canino@gmail.com</td>\n",
       "      <td>52 722 093749</td>\n",
       "      <td>PASEO DE LA ASUNCION NO. 536</td>\n",
       "      <td>METEPEC</td>\n",
       "      <td>MX-MEX</td>\n",
       "      <td>52148</td>\n",
       "      <td>MÉXICO</td>\n",
       "      <td>E9C1C827AE1234CCF7AC4D9070BB597C</td>\n",
       "      <td>NaN</td>\n",
       "    </tr>\n",
       "    <tr>\n",
       "      <th>1</th>\n",
       "      <td>NaN</td>\n",
       "      <td>servillantas@prodigy.net.mx</td>\n",
       "      <td>10191684</td>\n",
       "      <td>JOSE MORAN 66</td>\n",
       "      <td>MIGUEL HIDALGO</td>\n",
       "      <td>MX-CMX</td>\n",
       "      <td>11850</td>\n",
       "      <td>MÉXICO</td>\n",
       "      <td>SCA031118BX7</td>\n",
       "      <td>NaN</td>\n",
       "    </tr>\n",
       "    <tr>\n",
       "      <th>2</th>\n",
       "      <td>NaN</td>\n",
       "      <td>sportingautoreparaciones@gmail.com</td>\n",
       "      <td>55 56397681   55 54894622</td>\n",
       "      <td>PLUTARCO ELIAS CALLES No. 660. COL. SAN FRANCI...</td>\n",
       "      <td>Iztacalco</td>\n",
       "      <td>MX-CMX</td>\n",
       "      <td>08230</td>\n",
       "      <td>MÉXICO</td>\n",
       "      <td>SAU0505307M9</td>\n",
       "      <td>NaN</td>\n",
       "    </tr>\n",
       "    <tr>\n",
       "      <th>3</th>\n",
       "      <td>EDGAR GUSTAVO TREJO KEMPER</td>\n",
       "      <td>edgarg_kemper@hotmail.com; balcazar-sol@hotmai...</td>\n",
       "      <td>5543419836</td>\n",
       "      <td>CALZADA VALLEJO NUMERO 1020</td>\n",
       "      <td>AZCAPOTZALCO</td>\n",
       "      <td>MX-CMX</td>\n",
       "      <td>02300</td>\n",
       "      <td>MÉXICO</td>\n",
       "      <td>SCK070618C21</td>\n",
       "      <td>52 55 55873415 ext 201, 202, 203</td>\n",
       "    </tr>\n",
       "    <tr>\n",
       "      <th>4</th>\n",
       "      <td>Daniel Ernesto De la Fuente Barra</td>\n",
       "      <td>daniel.delafuente@segurossura.com.mx</td>\n",
       "      <td>5519636830</td>\n",
       "      <td>BLVD ADOLFO LOPEZ MATEOS 2448</td>\n",
       "      <td>ALVARO OBREGON</td>\n",
       "      <td>MX-CMX</td>\n",
       "      <td>01060</td>\n",
       "      <td>MÉXICO</td>\n",
       "      <td>R&amp;S811221KR6</td>\n",
       "      <td>57237999 Ext. 7965</td>\n",
       "    </tr>\n",
       "  </tbody>\n",
       "</table>\n",
       "</div>"
      ],
      "text/plain": [
       "                                name  \\\n",
       "0            IRAM LIEVANOS VELAZQUEZ   \n",
       "1                                NaN   \n",
       "2                                NaN   \n",
       "3         EDGAR GUSTAVO TREJO KEMPER   \n",
       "4  Daniel Ernesto De la Fuente Barra   \n",
       "\n",
       "                                               email  \\\n",
       "0                            laroca.canino@gmail.com   \n",
       "1                        servillantas@prodigy.net.mx   \n",
       "2                 sportingautoreparaciones@gmail.com   \n",
       "3  edgarg_kemper@hotmail.com; balcazar-sol@hotmai...   \n",
       "4               daniel.delafuente@segurossura.com.mx   \n",
       "\n",
       "                   telephone  \\\n",
       "0              52 722 093749   \n",
       "1                   10191684   \n",
       "2  55 56397681   55 54894622   \n",
       "3                 5543419836   \n",
       "4                 5519636830   \n",
       "\n",
       "                                       streetAddress        locality  region  \\\n",
       "0                       PASEO DE LA ASUNCION NO. 536         METEPEC  MX-MEX   \n",
       "1                                      JOSE MORAN 66  MIGUEL HIDALGO  MX-CMX   \n",
       "2  PLUTARCO ELIAS CALLES No. 660. COL. SAN FRANCI...       Iztacalco  MX-CMX   \n",
       "3                        CALZADA VALLEJO NUMERO 1020    AZCAPOTZALCO  MX-CMX   \n",
       "4                      BLVD ADOLFO LOPEZ MATEOS 2448  ALVARO OBREGON  MX-CMX   \n",
       "\n",
       "  postalCode countryName                       tenderer_id  \\\n",
       "0      52148      MÉXICO  E9C1C827AE1234CCF7AC4D9070BB597C   \n",
       "1      11850      MÉXICO                      SCA031118BX7   \n",
       "2      08230      MÉXICO                      SAU0505307M9   \n",
       "3      02300      MÉXICO                      SCK070618C21   \n",
       "4      01060      MÉXICO                      R&S811221KR6   \n",
       "\n",
       "                          faxNumber  \n",
       "0                               NaN  \n",
       "1                               NaN  \n",
       "2                               NaN  \n",
       "3  52 55 55873415 ext 201, 202, 203  \n",
       "4                57237999 Ext. 7965  "
      ]
     },
     "execution_count": 60,
     "metadata": {},
     "output_type": "execute_result"
    }
   ],
   "source": [
    "df_contactos = pd.DataFrame([{**p.get('contactPoint', ''), **p.get('address', ''), 'tenderer_id': p['id'] }\n",
    "                             for x in resultado for p in x['parties'] if (p['roles'] in [['tenderer'], ['tenderer', 'supplier']]) &\n",
    "                             ((bool(p.get('address', None))) | (bool(p.get('contactPoint', None))))])\n",
    "df_contactos.to_pickle(f'{dir_datos}/tenderers_contacpoint.pkl')\n",
    "df_contactos.head()"
   ]
  },
  {
   "cell_type": "markdown",
   "metadata": {},
   "source": [
    "* De la base de datos de contrataciones seleccionamos los datos de contacto de los que han ganado licitaciones. Estos tiene datos como nombre de la persona de contacto, email, teléfono, número de fax, dirección y id del proveedor"
   ]
  },
  {
   "cell_type": "markdown",
   "metadata": {},
   "source": [
    "### Uso de la base"
   ]
  },
  {
   "cell_type": "code",
   "execution_count": 9,
   "metadata": {},
   "outputs": [
    {
     "data": {
      "text/html": [
       "<div>\n",
       "<style scoped>\n",
       "    .dataframe tbody tr th:only-of-type {\n",
       "        vertical-align: middle;\n",
       "    }\n",
       "\n",
       "    .dataframe tbody tr th {\n",
       "        vertical-align: top;\n",
       "    }\n",
       "\n",
       "    .dataframe thead th {\n",
       "        text-align: right;\n",
       "    }\n",
       "</style>\n",
       "<table border=\"1\" class=\"dataframe\">\n",
       "  <thead>\n",
       "    <tr style=\"text-align: right;\">\n",
       "      <th></th>\n",
       "      <th>name</th>\n",
       "      <th>email</th>\n",
       "      <th>telephone</th>\n",
       "      <th>streetAddress</th>\n",
       "      <th>locality</th>\n",
       "      <th>region</th>\n",
       "      <th>postalCode</th>\n",
       "      <th>countryName</th>\n",
       "      <th>tenderer_id</th>\n",
       "      <th>faxNumber</th>\n",
       "    </tr>\n",
       "  </thead>\n",
       "  <tbody>\n",
       "    <tr>\n",
       "      <th>0</th>\n",
       "      <td>IRAM LIEVANOS VELAZQUEZ</td>\n",
       "      <td>laroca.canino@gmail.com</td>\n",
       "      <td>52 722 093749</td>\n",
       "      <td>PASEO DE LA ASUNCION NO. 536</td>\n",
       "      <td>METEPEC</td>\n",
       "      <td>MX-MEX</td>\n",
       "      <td>52148</td>\n",
       "      <td>MÉXICO</td>\n",
       "      <td>E9C1C827AE1234CCF7AC4D9070BB597C</td>\n",
       "      <td>NaN</td>\n",
       "    </tr>\n",
       "    <tr>\n",
       "      <th>1</th>\n",
       "      <td>NaN</td>\n",
       "      <td>servillantas@prodigy.net.mx</td>\n",
       "      <td>10191684</td>\n",
       "      <td>JOSE MORAN 66</td>\n",
       "      <td>MIGUEL HIDALGO</td>\n",
       "      <td>MX-CMX</td>\n",
       "      <td>11850</td>\n",
       "      <td>MÉXICO</td>\n",
       "      <td>SCA031118BX7</td>\n",
       "      <td>NaN</td>\n",
       "    </tr>\n",
       "    <tr>\n",
       "      <th>2</th>\n",
       "      <td>NaN</td>\n",
       "      <td>sportingautoreparaciones@gmail.com</td>\n",
       "      <td>55 56397681   55 54894622</td>\n",
       "      <td>PLUTARCO ELIAS CALLES No. 660. COL. SAN FRANCI...</td>\n",
       "      <td>Iztacalco</td>\n",
       "      <td>MX-CMX</td>\n",
       "      <td>08230</td>\n",
       "      <td>MÉXICO</td>\n",
       "      <td>SAU0505307M9</td>\n",
       "      <td>NaN</td>\n",
       "    </tr>\n",
       "    <tr>\n",
       "      <th>3</th>\n",
       "      <td>EDGAR GUSTAVO TREJO KEMPER</td>\n",
       "      <td>edgarg_kemper@hotmail.com; balcazar-sol@hotmai...</td>\n",
       "      <td>5543419836</td>\n",
       "      <td>CALZADA VALLEJO NUMERO 1020</td>\n",
       "      <td>AZCAPOTZALCO</td>\n",
       "      <td>MX-CMX</td>\n",
       "      <td>02300</td>\n",
       "      <td>MÉXICO</td>\n",
       "      <td>SCK070618C21</td>\n",
       "      <td>52 55 55873415 ext 201, 202, 203</td>\n",
       "    </tr>\n",
       "    <tr>\n",
       "      <th>4</th>\n",
       "      <td>Daniel Ernesto De la Fuente Barra</td>\n",
       "      <td>daniel.delafuente@segurossura.com.mx</td>\n",
       "      <td>5519636830</td>\n",
       "      <td>BLVD ADOLFO LOPEZ MATEOS 2448</td>\n",
       "      <td>ALVARO OBREGON</td>\n",
       "      <td>MX-CMX</td>\n",
       "      <td>01060</td>\n",
       "      <td>MÉXICO</td>\n",
       "      <td>R&amp;S811221KR6</td>\n",
       "      <td>57237999 Ext. 7965</td>\n",
       "    </tr>\n",
       "  </tbody>\n",
       "</table>\n",
       "</div>"
      ],
      "text/plain": [
       "                                name  \\\n",
       "0            IRAM LIEVANOS VELAZQUEZ   \n",
       "1                                NaN   \n",
       "2                                NaN   \n",
       "3         EDGAR GUSTAVO TREJO KEMPER   \n",
       "4  Daniel Ernesto De la Fuente Barra   \n",
       "\n",
       "                                               email  \\\n",
       "0                            laroca.canino@gmail.com   \n",
       "1                        servillantas@prodigy.net.mx   \n",
       "2                 sportingautoreparaciones@gmail.com   \n",
       "3  edgarg_kemper@hotmail.com; balcazar-sol@hotmai...   \n",
       "4               daniel.delafuente@segurossura.com.mx   \n",
       "\n",
       "                   telephone  \\\n",
       "0              52 722 093749   \n",
       "1                   10191684   \n",
       "2  55 56397681   55 54894622   \n",
       "3                 5543419836   \n",
       "4                 5519636830   \n",
       "\n",
       "                                       streetAddress        locality  region  \\\n",
       "0                       PASEO DE LA ASUNCION NO. 536         METEPEC  MX-MEX   \n",
       "1                                      JOSE MORAN 66  MIGUEL HIDALGO  MX-CMX   \n",
       "2  PLUTARCO ELIAS CALLES No. 660. COL. SAN FRANCI...       Iztacalco  MX-CMX   \n",
       "3                        CALZADA VALLEJO NUMERO 1020    AZCAPOTZALCO  MX-CMX   \n",
       "4                      BLVD ADOLFO LOPEZ MATEOS 2448  ALVARO OBREGON  MX-CMX   \n",
       "\n",
       "  postalCode countryName                       tenderer_id  \\\n",
       "0      52148      MÉXICO  E9C1C827AE1234CCF7AC4D9070BB597C   \n",
       "1      11850      MÉXICO                      SCA031118BX7   \n",
       "2      08230      MÉXICO                      SAU0505307M9   \n",
       "3      02300      MÉXICO                      SCK070618C21   \n",
       "4      01060      MÉXICO                      R&S811221KR6   \n",
       "\n",
       "                          faxNumber  \n",
       "0                               NaN  \n",
       "1                               NaN  \n",
       "2                               NaN  \n",
       "3  52 55 55873415 ext 201, 202, 203  \n",
       "4                57237999 Ext. 7965  "
      ]
     },
     "execution_count": 9,
     "metadata": {},
     "output_type": "execute_result"
    }
   ],
   "source": [
    "df_contactos = pd.read_pickle(f'{dir_datos}/tenderers_contacpoint.pkl')\n",
    "df_contactos.head()"
   ]
  },
  {
   "cell_type": "code",
   "execution_count": 10,
   "metadata": {},
   "outputs": [
    {
     "data": {
      "text/plain": [
       "(563693, 10)"
      ]
     },
     "execution_count": 10,
     "metadata": {},
     "output_type": "execute_result"
    }
   ],
   "source": [
    "df_contactos.shape"
   ]
  },
  {
   "cell_type": "markdown",
   "metadata": {},
   "source": [
    "* De todos los contratos encontramos 563693 puntos de contacto. Muchos de estos se repiten porque un contratista que ganó varias veces aparecerá como un contacto por cada contrato ganado.\n",
    "* Calculamos todas las combinaciones únicas de telefono y tenderer_id.\n",
    "* Luego verificamos si existen casos en los que varios tenderer_id comparten el:\n",
    "    * teléfono: 700 casos en los que eso ocurre.\n",
    "    * Email: 839 casos.\n",
    "    * Nombre: 706 casos\n",
    "    * Número de fax: 135 casos\n",
    "    * Dirección de la calle: 172 casos\n",
    "* Todos estos son signos de sospecha.\n",
    "* En muchos casos hay cuentas de funcionarios públicos. Habría que verificar cuál es su papel.\n",
    "* La pregunta relevante es ¿Hay casos en los que contratistas que tienen contactos en común hayan participado en un mismo proceso de licitación?"
   ]
  },
  {
   "cell_type": "code",
   "execution_count": null,
   "metadata": {},
   "outputs": [],
   "source": [
    "variables_contacto = ['telephone', 'email', 'name', 'streetAddress', 'faxNumber']\n",
    "casos = []\n",
    "for var_duplicated in variables_contacto:\n",
    "    # Encontramos todos los valores únicos de la variable de contacto y de tenderer_id\n",
    "    dups_direccion = df_contactos.loc[lambda x: (~x.duplicated(subset=['tenderer_id', var_duplicated])) & (x[var_duplicated].notnull())]\\\n",
    "        .loc[lambda x: (x[var_duplicated].duplicated()) & (~x['name'].str[:22].eq('- (Cuenta administrada')), var_duplicated].unique()\n",
    "    # Encontramos cuáles son los tenderers_id que comparten un mismo contacto\n",
    "    tenderers_dup_id = [df_contactos.loc[lambda x: x[var_duplicated].eq(dup)].drop_duplicates(subset=['tenderer_id'])['tenderer_id'].tolist()\n",
    "                   for dup in dups_direccion]\n",
    "    # Buscamos los contratos en los que participaron los ids asociados\n",
    "    queries_dup = [[{'parties.id': i} for i in x] for x in tenderers_dup_id]\n",
    "    for q in queries_dup:\n",
    "        resultado = list(mydb.contrataciones.find({'$and': q}, {'_id': 0, 'ocid': 1}))\n",
    "        if resultado:\n",
    "            tenderers_id = [x['parties.id'] for x in q]\n",
    "            ocids = list({x['ocid'] for x in resultado})\n",
    "            casos.append({'tenderer_ids': tenderers_id, 'contratos_ocid': ocids, 'variable': var_duplicated})\n",
    "            print(q)\n",
    "            \n",
    "with open('datos/casos_colusion.json', 'w', encoding='utf8') as jsonfile:\n",
    "    json.dump(casos, jsonfile)"
   ]
  },
  {
   "cell_type": "markdown",
   "metadata": {},
   "source": [
    "* El resultado que encontramos es que existen 571 casos de contratistas posiblemente relacionados en una misma licitación."
   ]
  },
  {
   "cell_type": "code",
   "execution_count": 14,
   "metadata": {},
   "outputs": [],
   "source": [
    "with open('datos/casos_colusion.json', 'r', encoding='utf8') as jsonfile:\n",
    "    casos = json.load(jsonfile)"
   ]
  },
  {
   "cell_type": "code",
   "execution_count": 78,
   "metadata": {},
   "outputs": [
    {
     "data": {
      "text/plain": [
       "571"
      ]
     },
     "execution_count": 78,
     "metadata": {},
     "output_type": "execute_result"
    }
   ],
   "source": [
    "casos_ocid = list({c for cas in casos for c in cas['contratos_ocid']})\n",
    "len(casos_ocid)"
   ]
  },
  {
   "cell_type": "code",
   "execution_count": 79,
   "metadata": {},
   "outputs": [
    {
     "data": {
      "text/plain": [
       "619"
      ]
     },
     "execution_count": 79,
     "metadata": {},
     "output_type": "execute_result"
    }
   ],
   "source": [
    "casos_contratos = list(mydb.contrataciones.find({'ocid': {'$in': casos_ocid}}))\n",
    "len(casos_contratos)"
   ]
  },
  {
   "cell_type": "code",
   "execution_count": 331,
   "metadata": {},
   "outputs": [
    {
     "data": {
      "text/html": [
       "<div>\n",
       "<style scoped>\n",
       "    .dataframe tbody tr th:only-of-type {\n",
       "        vertical-align: middle;\n",
       "    }\n",
       "\n",
       "    .dataframe tbody tr th {\n",
       "        vertical-align: top;\n",
       "    }\n",
       "\n",
       "    .dataframe thead th {\n",
       "        text-align: right;\n",
       "    }\n",
       "</style>\n",
       "<table border=\"1\" class=\"dataframe\">\n",
       "  <thead>\n",
       "    <tr style=\"text-align: right;\">\n",
       "      <th></th>\n",
       "      <th>titulo</th>\n",
       "      <th>descr</th>\n",
       "      <th>valor</th>\n",
       "      <th>dependencia_id</th>\n",
       "      <th>dependencia_nombre</th>\n",
       "      <th>uc_id</th>\n",
       "      <th>uc_name</th>\n",
       "      <th>fecha</th>\n",
       "    </tr>\n",
       "    <tr>\n",
       "      <th>ocid</th>\n",
       "      <th></th>\n",
       "      <th></th>\n",
       "      <th></th>\n",
       "      <th></th>\n",
       "      <th></th>\n",
       "      <th></th>\n",
       "      <th></th>\n",
       "      <th></th>\n",
       "    </tr>\n",
       "  </thead>\n",
       "  <tbody>\n",
       "    <tr>\n",
       "      <th>ocds-07smqs-1317308</th>\n",
       "      <td>Servicio Integral de Suministro, Mantenimiento...</td>\n",
       "      <td>Servicio Integral de Suministro, Mantenimiento...</td>\n",
       "      <td>450000.00</td>\n",
       "      <td>CNBV-80</td>\n",
       "      <td>Comisión Nacional Bancaria y de Valores</td>\n",
       "      <td>CNB950501PT6-006B00001</td>\n",
       "      <td>CNBV-Dirección General Adjunta de Adquisicione...</td>\n",
       "      <td>2017-03-29T05:13:19Z</td>\n",
       "    </tr>\n",
       "    <tr>\n",
       "      <th>ocds-07smqs-1367848</th>\n",
       "      <td>PRESTADOR DE SERVICIOS INTEGRALES</td>\n",
       "      <td>PRESTADOR DE SERVICIOS INTEGRALES (HONORARIOS)</td>\n",
       "      <td>44542.62</td>\n",
       "      <td>SAGARPA-261</td>\n",
       "      <td>Secretaría de Agricultura, Ganadería, Desarrol...</td>\n",
       "      <td>SAG010710V98-008000995</td>\n",
       "      <td>SAGARPA-Delegacion Chihuahua #008000995</td>\n",
       "      <td>2017-05-22T12:24:14Z</td>\n",
       "    </tr>\n",
       "    <tr>\n",
       "      <th>ocds-07smqs-1430619</th>\n",
       "      <td>CONTRATACIÓN ABIERTA DEL SERVICIO DE LECTURA E...</td>\n",
       "      <td>CONTRATACIÓN ABIERTA DEL SERVICIO DE LECTURA E...</td>\n",
       "      <td>220000.00</td>\n",
       "      <td>SEP-265</td>\n",
       "      <td>Secretaría de Educación Pública</td>\n",
       "      <td>SEP210905778-011000999</td>\n",
       "      <td>SEP-Dirección de Adquisiciones #011000999</td>\n",
       "      <td>2017-07-20T06:22:43Z</td>\n",
       "    </tr>\n",
       "    <tr>\n",
       "      <th>ocds-07smqs-1444924</th>\n",
       "      <td>SERVICIO DE MANTENIMIENTO CORRECTIVO AL SISTEM...</td>\n",
       "      <td>SERVICIO DE MANTENIMIENTO CORRECTIVO AL SISTEM...</td>\n",
       "      <td>287780.00</td>\n",
       "      <td>CONAGUA-94</td>\n",
       "      <td>Comisión Nacional del Agua</td>\n",
       "      <td>CNA890116SF2-016B00009</td>\n",
       "      <td>CONAGUA-Gerencia de Resursos Materiales #016B0...</td>\n",
       "      <td>2017-08-03T01:58:53Z</td>\n",
       "    </tr>\n",
       "    <tr>\n",
       "      <th>ocds-07smqs-1452158</th>\n",
       "      <td>SERVICIO DE DIFUSIÓN EN MEDIOS DIGITALES DE LA...</td>\n",
       "      <td>SERVICIO DE DIFUSIÓN EN MEDIOS DIGITALES DE LA...</td>\n",
       "      <td>68950.00</td>\n",
       "      <td>CONUEE-98</td>\n",
       "      <td>Comisión Nacional para el Uso Eficiente de la ...</td>\n",
       "      <td>CNU800928K31-018E00999</td>\n",
       "      <td>CONUEE-Dirección de Recursos Materiales y Serv...</td>\n",
       "      <td>2017-08-30T04:21:41Z</td>\n",
       "    </tr>\n",
       "  </tbody>\n",
       "</table>\n",
       "</div>"
      ],
      "text/plain": [
       "                                                                titulo  \\\n",
       "ocid                                                                     \n",
       "ocds-07smqs-1317308  Servicio Integral de Suministro, Mantenimiento...   \n",
       "ocds-07smqs-1367848                  PRESTADOR DE SERVICIOS INTEGRALES   \n",
       "ocds-07smqs-1430619  CONTRATACIÓN ABIERTA DEL SERVICIO DE LECTURA E...   \n",
       "ocds-07smqs-1444924  SERVICIO DE MANTENIMIENTO CORRECTIVO AL SISTEM...   \n",
       "ocds-07smqs-1452158  SERVICIO DE DIFUSIÓN EN MEDIOS DIGITALES DE LA...   \n",
       "\n",
       "                                                                 descr  \\\n",
       "ocid                                                                     \n",
       "ocds-07smqs-1317308  Servicio Integral de Suministro, Mantenimiento...   \n",
       "ocds-07smqs-1367848     PRESTADOR DE SERVICIOS INTEGRALES (HONORARIOS)   \n",
       "ocds-07smqs-1430619  CONTRATACIÓN ABIERTA DEL SERVICIO DE LECTURA E...   \n",
       "ocds-07smqs-1444924  SERVICIO DE MANTENIMIENTO CORRECTIVO AL SISTEM...   \n",
       "ocds-07smqs-1452158  SERVICIO DE DIFUSIÓN EN MEDIOS DIGITALES DE LA...   \n",
       "\n",
       "                         valor dependencia_id  \\\n",
       "ocid                                            \n",
       "ocds-07smqs-1317308  450000.00        CNBV-80   \n",
       "ocds-07smqs-1367848   44542.62    SAGARPA-261   \n",
       "ocds-07smqs-1430619  220000.00        SEP-265   \n",
       "ocds-07smqs-1444924  287780.00     CONAGUA-94   \n",
       "ocds-07smqs-1452158   68950.00      CONUEE-98   \n",
       "\n",
       "                                                    dependencia_nombre  \\\n",
       "ocid                                                                     \n",
       "ocds-07smqs-1317308            Comisión Nacional Bancaria y de Valores   \n",
       "ocds-07smqs-1367848  Secretaría de Agricultura, Ganadería, Desarrol...   \n",
       "ocds-07smqs-1430619                    Secretaría de Educación Pública   \n",
       "ocds-07smqs-1444924                         Comisión Nacional del Agua   \n",
       "ocds-07smqs-1452158  Comisión Nacional para el Uso Eficiente de la ...   \n",
       "\n",
       "                                      uc_id  \\\n",
       "ocid                                          \n",
       "ocds-07smqs-1317308  CNB950501PT6-006B00001   \n",
       "ocds-07smqs-1367848  SAG010710V98-008000995   \n",
       "ocds-07smqs-1430619  SEP210905778-011000999   \n",
       "ocds-07smqs-1444924  CNA890116SF2-016B00009   \n",
       "ocds-07smqs-1452158  CNU800928K31-018E00999   \n",
       "\n",
       "                                                               uc_name  \\\n",
       "ocid                                                                     \n",
       "ocds-07smqs-1317308  CNBV-Dirección General Adjunta de Adquisicione...   \n",
       "ocds-07smqs-1367848            SAGARPA-Delegacion Chihuahua #008000995   \n",
       "ocds-07smqs-1430619          SEP-Dirección de Adquisiciones #011000999   \n",
       "ocds-07smqs-1444924  CONAGUA-Gerencia de Resursos Materiales #016B0...   \n",
       "ocds-07smqs-1452158  CONUEE-Dirección de Recursos Materiales y Serv...   \n",
       "\n",
       "                                    fecha  \n",
       "ocid                                       \n",
       "ocds-07smqs-1317308  2017-03-29T05:13:19Z  \n",
       "ocds-07smqs-1367848  2017-05-22T12:24:14Z  \n",
       "ocds-07smqs-1430619  2017-07-20T06:22:43Z  \n",
       "ocds-07smqs-1444924  2017-08-03T01:58:53Z  \n",
       "ocds-07smqs-1452158  2017-08-30T04:21:41Z  "
      ]
     },
     "execution_count": 331,
     "metadata": {},
     "output_type": "execute_result"
    }
   ],
   "source": [
    "datos_contrato = [{'titulo': c['contracts'][0]['title'],\n",
    "                   'descr': c['contracts'][0].get('description', ''),\n",
    "                   'valor': c['contracts'][0]['value']['amount'],\n",
    "                  'dependencia_id': c['buyer']['id'],\n",
    "                  'dependencia_nombre': c['buyer']['name'],\n",
    "                  'uc_id': c['tender']['procuringEntity']['id'],\n",
    "                  'uc_name': c['tender']['procuringEntity']['name'],\n",
    "                   'ocid': c['ocid'],\n",
    "                   'fecha': c['date'],\n",
    "                  }\n",
    "                  \n",
    "                  for c in casos_contratos if c.get('contracts', None)]\n",
    "\n",
    "df_datos_contratos = pd.DataFrame(datos_contrato).set_index('ocid')\n",
    "df_datos_contratos.head()"
   ]
  },
  {
   "cell_type": "code",
   "execution_count": 123,
   "metadata": {},
   "outputs": [
    {
     "data": {
      "text/plain": [
       "{'_id': ObjectId('5dcdb0c10d84ead5c49d2e99'),\n",
       " 'publisher': {'uid': '27511',\n",
       "  'name': 'SECRETARÍA DE LA FUNCIÓN PÚBLICA',\n",
       "  'uri': 'http://www.gob.mx/sfp'},\n",
       " 'cycle': 2017,\n",
       " 'ocid': 'ocds-07smqs-1317308',\n",
       " 'id': 'SFP-1317308-2018-11-12',\n",
       " 'date': '2017-03-29T05:13:19Z',\n",
       " 'tag': ['tender', 'award'],\n",
       " 'initiationType': 'tender',\n",
       " 'parties': [{'name': 'Comisión Nacional Bancaria y de Valores',\n",
       "   'id': 'CNBV-80',\n",
       "   'roles': ['buyer']},\n",
       "  {'name': 'CNBV-Dirección General Adjunta de Adquisiciones y Contratos #006B00001',\n",
       "   'id': 'CNB950501PT6-006B00001',\n",
       "   'identifier': {'id': 'CNB950501PT6-006B00001',\n",
       "    'legalName': 'CNBV-Dirección General Adjunta de Adquisiciones y Contratos #006B00001',\n",
       "    'scheme': 'MX-RFC',\n",
       "    'uri': 'https://portalsat.plataforma.sat.gob.mx/ConsultaRFC'},\n",
       "   'address': {'streetAddress': 'Av. Insurgentes Sur No. 1971, Torre Sur, Piso 6, Col. Guadalupe Inn',\n",
       "    'locality': 'Álvaro Obregón',\n",
       "    'region': 'Ciudad de México',\n",
       "    'postalCode': '01020',\n",
       "    'countryName': 'MX'},\n",
       "   'contactPoint': {'name': 'Jannet Miriam Martínez Sánchez',\n",
       "    'email': 'jmartinezs@cnbv.gob.mx',\n",
       "    'telephone': '1454-6537 y 1454-6538'},\n",
       "   'roles': ['procuringEntity']},\n",
       "  {'name': 'MARIANA REGALADO SOBERON',\n",
       "   'id': '3CAB041C0551441CB0A31EAC594B2339',\n",
       "   'identifier': {'id': '3CAB041C0551441CB0A31EAC594B2339',\n",
       "    'legalName': 'MARIANA REGALADO SOBERON',\n",
       "    'scheme': 'MX-RFC',\n",
       "    'uri': 'https://portalsat.plataforma.sat.gob.mx/ConsultaRFC'},\n",
       "   'address': {},\n",
       "   'contactPoint': {},\n",
       "   'roles': ['tenderer']},\n",
       "  {'name': 'GRUPO SANMARI SA DE CV',\n",
       "   'id': 'GSA0310175N4',\n",
       "   'identifier': {'id': 'GSA0310175N4',\n",
       "    'legalName': 'GRUPO SANMARI SA DE CV',\n",
       "    'scheme': 'MX-RFC',\n",
       "    'uri': 'https://portalsat.plataforma.sat.gob.mx/ConsultaRFC'},\n",
       "   'address': {'streetAddress': 'AZTECAS 81 LA ROMANA',\n",
       "    'locality': 'Tlalnepantla de Baz',\n",
       "    'region': 'MX-MEX',\n",
       "    'postalCode': '54050',\n",
       "    'countryName': 'MÉXICO'},\n",
       "   'contactPoint': {'email': 'rafael@sanmari.com.mx',\n",
       "    'telephone': '55-52409421'},\n",
       "   'roles': ['tenderer']},\n",
       "  {'name': 'HECTOR MANUEL SEGURA TORRE',\n",
       "   'id': 'E2E9D6DA235621FC08C1A0EFC4201B95',\n",
       "   'identifier': {'id': 'E2E9D6DA235621FC08C1A0EFC4201B95',\n",
       "    'legalName': 'HECTOR MANUEL SEGURA TORRE',\n",
       "    'scheme': 'MX-RFC',\n",
       "    'uri': 'https://portalsat.plataforma.sat.gob.mx/ConsultaRFC'},\n",
       "   'address': {},\n",
       "   'contactPoint': {},\n",
       "   'roles': ['tenderer']},\n",
       "  {'name': 'GABRIEL DEL POZO RUIZ',\n",
       "   'id': 'AA2EEEF597460501F7B8A50B4DE1F671',\n",
       "   'identifier': {'id': 'AA2EEEF597460501F7B8A50B4DE1F671',\n",
       "    'legalName': 'GABRIEL DEL POZO RUIZ',\n",
       "    'scheme': 'MX-RFC',\n",
       "    'uri': 'https://portalsat.plataforma.sat.gob.mx/ConsultaRFC'},\n",
       "   'address': {'streetAddress': 'CEIBAS 45',\n",
       "    'locality': 'NAUCALPAN DE JUAREZ',\n",
       "    'region': 'MX-MEX',\n",
       "    'postalCode': '53240',\n",
       "    'countryName': 'MÉXICO'},\n",
       "   'contactPoint': {'name': 'GABRIEL DEL POZO RUIZ',\n",
       "    'email': 'mascontrolmenoscosto@yahoo.com.mx',\n",
       "    'telephone': '525536259819'},\n",
       "   'roles': ['tenderer', 'supplier']}],\n",
       " 'buyer': {'name': 'Comisión Nacional Bancaria y de Valores', 'id': 'CNBV-80'},\n",
       " 'tender': {'id': '1317308',\n",
       "  'title': 'Servicio Integral de Suministro, Mantenimiento Plantas y Macetas',\n",
       "  'description': 'Servicio Integral de Suministro, Mantenimiento y Conservación de Plantas Naturales y Macetas Propiedad de la CNBV',\n",
       "  'status': 'complete',\n",
       "  'procuringEntity': {'name': 'CNBV-Dirección General Adjunta de Adquisiciones y Contratos #006B00001',\n",
       "   'id': 'CNB950501PT6-006B00001'},\n",
       "  'items': [{'id': '7044016',\n",
       "    'description': 'Contratación de una Póliza de Seguro de Accidentes Personales para la protección de los participantes en acciones de capacitación del Programa de Apoyo al Empleo 2016.',\n",
       "    'classification': {'id': '33900006',\n",
       "     'description': 'Servicios de seguros de gastos medicos mayores'},\n",
       "    'quantity': 1,\n",
       "    'unit': {'name': 'Servicio'}}],\n",
       "  'value': {'amount': 0},\n",
       "  'procurementMethod': 'direct',\n",
       "  'procurementMethodRationale': 'Art. 42 párrafo primero',\n",
       "  'submissionMethod': ['electronicSubmission'],\n",
       "  'tenderPeriod': {'startDate': '2017-03-29T05:13:19Z'},\n",
       "  'enquiryPeriod': {'startDate': '2017-03-29T05:13:19Z'},\n",
       "  'hasEnquiries': False,\n",
       "  'awardPeriod': {'endDate': '2017-03-30T00:00:00Z'},\n",
       "  'numberOfTenderers': 4,\n",
       "  'tenderers': [{'name': 'MARIANA REGALADO SOBERON',\n",
       "    'id': '3CAB041C0551441CB0A31EAC594B2339'},\n",
       "   {'name': 'GRUPO SANMARI SA DE CV', 'id': 'GSA0310175N4'},\n",
       "   {'name': 'GABRIEL DEL POZO RUIZ', 'id': 'AA2EEEF597460501F7B8A50B4DE1F671'},\n",
       "   {'name': 'HECTOR MANUEL SEGURA TORRE',\n",
       "    'id': 'E2E9D6DA235621FC08C1A0EFC4201B95'}]},\n",
       " 'language': 'es',\n",
       " 'awards': [{'id': '1399908',\n",
       "   'title': 'Servicio Integral de Suministro, Mantenimiento Plantas y Macetas',\n",
       "   'description': 'Servicio Integral de Suministro, Mantenimiento y Conservación de Plantas Naturales y Macetas Propiedad de la CNBV',\n",
       "   'status': 'active',\n",
       "   'value': {'amount': 450000, 'currency': 'MXN'},\n",
       "   'suppliers': [{'name': 'GABRIEL DEL POZO RUIZ',\n",
       "     'id': 'AA2EEEF597460501F7B8A50B4DE1F671'}],\n",
       "   'items': [{'id': '4645830',\n",
       "     'description': 'Servicio Integral de Suministro, Mantenimiento Plantas y Macetas',\n",
       "     'classification': {'scheme': 'CUCOP: Clasificador Único de las Contrataciones Públicas',\n",
       "      'id': '35900004',\n",
       "      'description': 'Servicios de jardineria',\n",
       "      'uri': 'https://compranetinfo.funcionpublica.gob.mx/descargas/CUCOP.xlsx'},\n",
       "     'quantity': 1,\n",
       "     'unit': {'name': 'Servicio',\n",
       "      'value': {'amount': 450000, 'currency': 'MXN'}}}],\n",
       "   'contractPeriod': {'startDate': '2017-04-14T09:00:00Z',\n",
       "    'endDate': '2018-06-18T03:59:00Z'}}],\n",
       " 'contracts': [{'id': 1399908,\n",
       "   'awardID': '1399908',\n",
       "   'title': 'Servicio Integral de Suministro, Mantenimiento Plantas y Macetas',\n",
       "   'description': 'Servicio Integral de Suministro, Mantenimiento y Conservación de Plantas Naturales y Macetas Propiedad de la CNBV',\n",
       "   'status': 'terminated',\n",
       "   'period': {'startDate': '2017-04-14T09:00:00Z',\n",
       "    'endDate': '2018-06-18T03:59:00Z'},\n",
       "   'value': {'amount': 450000, 'currency': 'MXN'},\n",
       "   'items': [{'id': '4645830',\n",
       "     'description': 'Servicio Integral de Suministro, Mantenimiento Plantas y Macetas',\n",
       "     'classification': {'id': '35900004',\n",
       "      'description': 'Servicios de jardineria'},\n",
       "     'quantity': 1,\n",
       "     'unit': {'name': 'Servicio',\n",
       "      'value': {'amount': 450000, 'currency': 'MXN'}}}]}]}"
      ]
     },
     "execution_count": 123,
     "metadata": {},
     "output_type": "execute_result"
    }
   ],
   "source": [
    "casos_contratos[0]"
   ]
  },
  {
   "cell_type": "code",
   "execution_count": null,
   "metadata": {},
   "outputs": [],
   "source": []
  },
  {
   "cell_type": "code",
   "execution_count": 137,
   "metadata": {},
   "outputs": [
    {
     "data": {
      "text/html": [
       "<div>\n",
       "<style scoped>\n",
       "    .dataframe tbody tr th:only-of-type {\n",
       "        vertical-align: middle;\n",
       "    }\n",
       "\n",
       "    .dataframe tbody tr th {\n",
       "        vertical-align: top;\n",
       "    }\n",
       "\n",
       "    .dataframe thead th {\n",
       "        text-align: right;\n",
       "    }\n",
       "</style>\n",
       "<table border=\"1\" class=\"dataframe\">\n",
       "  <thead>\n",
       "    <tr style=\"text-align: right;\">\n",
       "      <th></th>\n",
       "      <th>part</th>\n",
       "      <th>asoc</th>\n",
       "      <th>gana</th>\n",
       "      <th>N_part</th>\n",
       "      <th>N_asoc</th>\n",
       "      <th>N_gana</th>\n",
       "      <th>prop_asoc_part</th>\n",
       "      <th>part_mayo</th>\n",
       "      <th>asoc_ganadores</th>\n",
       "      <th>N_asoc_ganadores</th>\n",
       "      <th>part_nogana</th>\n",
       "      <th>titulo</th>\n",
       "      <th>descr</th>\n",
       "      <th>valor</th>\n",
       "      <th>dependencia_id</th>\n",
       "      <th>dependencia_nombre</th>\n",
       "      <th>uc_id</th>\n",
       "      <th>uc_name</th>\n",
       "      <th>fecha</th>\n",
       "    </tr>\n",
       "  </thead>\n",
       "  <tbody>\n",
       "    <tr>\n",
       "      <th>ocds-07smqs-1043398</th>\n",
       "      <td>[TME840315KT6, BD03FBE666C3DBA5C57BCDC8BF0AA451]</td>\n",
       "      <td>[TME840315KT6, BD03FBE666C3DBA5C57BCDC8BF0AA451]</td>\n",
       "      <td>[TME840315KT6, BD03FBE666C3DBA5C57BCDC8BF0AA451]</td>\n",
       "      <td>2</td>\n",
       "      <td>2</td>\n",
       "      <td>2</td>\n",
       "      <td>1.000000</td>\n",
       "      <td>True</td>\n",
       "      <td>[BD03FBE666C3DBA5C57BCDC8BF0AA451, TME840315KT6]</td>\n",
       "      <td>2</td>\n",
       "      <td>[]</td>\n",
       "      <td>SERVICIO MPLS ATRAVES DE UN ENLACE DEDICADO CO...</td>\n",
       "      <td></td>\n",
       "      <td>169133.00</td>\n",
       "      <td>CIJ-66</td>\n",
       "      <td>Centros de Integración Juvenil, A.C.</td>\n",
       "      <td>CIJ731003QK3-012M7K001</td>\n",
       "      <td>CIJ-Departamento de Adquisiciones #012M7K001</td>\n",
       "      <td>2016-04-18T12:02:38Z</td>\n",
       "    </tr>\n",
       "    <tr>\n",
       "      <th>ocds-07smqs-1193763</th>\n",
       "      <td>[MLA840208FN5, D73016CAA1F8020E3BAC52068FB0B2D...</td>\n",
       "      <td>[D73016CAA1F8020E3BAC52068FB0B2D9, MLA840208FN5]</td>\n",
       "      <td>[MLA840208FN5, D73016CAA1F8020E3BAC52068FB0B2D...</td>\n",
       "      <td>4</td>\n",
       "      <td>2</td>\n",
       "      <td>4</td>\n",
       "      <td>0.500000</td>\n",
       "      <td>True</td>\n",
       "      <td>[MLA840208FN5, D73016CAA1F8020E3BAC52068FB0B2D9]</td>\n",
       "      <td>2</td>\n",
       "      <td>[]</td>\n",
       "      <td>ADQ. DE VIVERES PARA EJERCICIO 2017</td>\n",
       "      <td>ADQ. DE VIVERES PARA EJERCICIO 2017</td>\n",
       "      <td>3880739.50</td>\n",
       "      <td>IMSS-192</td>\n",
       "      <td>Instituto Mexicano del Seguro Social</td>\n",
       "      <td>IMS421231I45-050GYR045</td>\n",
       "      <td>IMSS-UMAE Hospital de Especilidades No.71 Dept...</td>\n",
       "      <td>2016-12-09T05:26:28Z</td>\n",
       "    </tr>\n",
       "    <tr>\n",
       "      <th>ocds-07smqs-1224403</th>\n",
       "      <td>[89E87098891F04A46318B7F775AD5E48, FAR100921AL...</td>\n",
       "      <td>[D73016CAA1F8020E3BAC52068FB0B2D9, MLA840208FN5]</td>\n",
       "      <td>[D73016CAA1F8020E3BAC52068FB0B2D9, 9D3346ADF0B...</td>\n",
       "      <td>8</td>\n",
       "      <td>2</td>\n",
       "      <td>5</td>\n",
       "      <td>0.250000</td>\n",
       "      <td>False</td>\n",
       "      <td>[MLA840208FN5, D73016CAA1F8020E3BAC52068FB0B2D9]</td>\n",
       "      <td>2</td>\n",
       "      <td>[FAR100921ALA, 89E87098891F04A46318B7F775AD5E4...</td>\n",
       "      <td>AA-019GYR026-E221-2016 DESIERTAS VIVERES</td>\n",
       "      <td></td>\n",
       "      <td>671930.69</td>\n",
       "      <td>IMSS-192</td>\n",
       "      <td>Instituto Mexicano del Seguro Social</td>\n",
       "      <td>IMS421231I45-050GYR026</td>\n",
       "      <td>IMSS-Coordinación de abastecimiento y equipami...</td>\n",
       "      <td>2016-12-02T05:49:52Z</td>\n",
       "    </tr>\n",
       "    <tr>\n",
       "      <th>ocds-07smqs-1240190</th>\n",
       "      <td>[RDO070228V11, ATD061228L34, MEX0301141G6]</td>\n",
       "      <td>[RDO070228V11, ATD061228L34]</td>\n",
       "      <td>[MEX0301141G6]</td>\n",
       "      <td>3</td>\n",
       "      <td>2</td>\n",
       "      <td>1</td>\n",
       "      <td>0.666667</td>\n",
       "      <td>True</td>\n",
       "      <td>[]</td>\n",
       "      <td>0</td>\n",
       "      <td>[RDO070228V11, ATD061228L34]</td>\n",
       "      <td>SERVICIO DE RESGUARDO, CUSTODIA, TRASLADO, ENV...</td>\n",
       "      <td>SERVICIO DE RESGUARDO, CUSTODIA, TRASLADO, ENV...</td>\n",
       "      <td>116379.72</td>\n",
       "      <td>CPTM-109</td>\n",
       "      <td>Consejo de Promoción Turística de México, S.A....</td>\n",
       "      <td>CPT991022DE7-021W3J001</td>\n",
       "      <td>CPTM-Gerencia de Adquisiciones y Licitaciones ...</td>\n",
       "      <td>2016-12-20T06:52:52Z</td>\n",
       "    </tr>\n",
       "    <tr>\n",
       "      <th>ocds-07smqs-1241959</th>\n",
       "      <td>[CGE130930JV2, CDA9601297G9, 23DF515587ED8B3F4...</td>\n",
       "      <td>[CDA9601297G9, 23DF515587ED8B3F4A8B1C9E4D725CAD]</td>\n",
       "      <td>[]</td>\n",
       "      <td>3</td>\n",
       "      <td>2</td>\n",
       "      <td>0</td>\n",
       "      <td>0.666667</td>\n",
       "      <td>True</td>\n",
       "      <td>[]</td>\n",
       "      <td>0</td>\n",
       "      <td>[CGE130930JV2, 23DF515587ED8B3F4A8B1C9E4D725CA...</td>\n",
       "      <td>NaN</td>\n",
       "      <td>NaN</td>\n",
       "      <td>NaN</td>\n",
       "      <td>NaN</td>\n",
       "      <td>NaN</td>\n",
       "      <td>NaN</td>\n",
       "      <td>NaN</td>\n",
       "      <td>NaN</td>\n",
       "    </tr>\n",
       "  </tbody>\n",
       "</table>\n",
       "</div>"
      ],
      "text/plain": [
       "                                                                  part  \\\n",
       "ocds-07smqs-1043398   [TME840315KT6, BD03FBE666C3DBA5C57BCDC8BF0AA451]   \n",
       "ocds-07smqs-1193763  [MLA840208FN5, D73016CAA1F8020E3BAC52068FB0B2D...   \n",
       "ocds-07smqs-1224403  [89E87098891F04A46318B7F775AD5E48, FAR100921AL...   \n",
       "ocds-07smqs-1240190         [RDO070228V11, ATD061228L34, MEX0301141G6]   \n",
       "ocds-07smqs-1241959  [CGE130930JV2, CDA9601297G9, 23DF515587ED8B3F4...   \n",
       "\n",
       "                                                                 asoc  \\\n",
       "ocds-07smqs-1043398  [TME840315KT6, BD03FBE666C3DBA5C57BCDC8BF0AA451]   \n",
       "ocds-07smqs-1193763  [D73016CAA1F8020E3BAC52068FB0B2D9, MLA840208FN5]   \n",
       "ocds-07smqs-1224403  [D73016CAA1F8020E3BAC52068FB0B2D9, MLA840208FN5]   \n",
       "ocds-07smqs-1240190                      [RDO070228V11, ATD061228L34]   \n",
       "ocds-07smqs-1241959  [CDA9601297G9, 23DF515587ED8B3F4A8B1C9E4D725CAD]   \n",
       "\n",
       "                                                                  gana  \\\n",
       "ocds-07smqs-1043398   [TME840315KT6, BD03FBE666C3DBA5C57BCDC8BF0AA451]   \n",
       "ocds-07smqs-1193763  [MLA840208FN5, D73016CAA1F8020E3BAC52068FB0B2D...   \n",
       "ocds-07smqs-1224403  [D73016CAA1F8020E3BAC52068FB0B2D9, 9D3346ADF0B...   \n",
       "ocds-07smqs-1240190                                     [MEX0301141G6]   \n",
       "ocds-07smqs-1241959                                                 []   \n",
       "\n",
       "                     N_part  N_asoc  N_gana  prop_asoc_part  part_mayo  \\\n",
       "ocds-07smqs-1043398       2       2       2        1.000000       True   \n",
       "ocds-07smqs-1193763       4       2       4        0.500000       True   \n",
       "ocds-07smqs-1224403       8       2       5        0.250000      False   \n",
       "ocds-07smqs-1240190       3       2       1        0.666667       True   \n",
       "ocds-07smqs-1241959       3       2       0        0.666667       True   \n",
       "\n",
       "                                                       asoc_ganadores  \\\n",
       "ocds-07smqs-1043398  [BD03FBE666C3DBA5C57BCDC8BF0AA451, TME840315KT6]   \n",
       "ocds-07smqs-1193763  [MLA840208FN5, D73016CAA1F8020E3BAC52068FB0B2D9]   \n",
       "ocds-07smqs-1224403  [MLA840208FN5, D73016CAA1F8020E3BAC52068FB0B2D9]   \n",
       "ocds-07smqs-1240190                                                []   \n",
       "ocds-07smqs-1241959                                                []   \n",
       "\n",
       "                     N_asoc_ganadores  \\\n",
       "ocds-07smqs-1043398                 2   \n",
       "ocds-07smqs-1193763                 2   \n",
       "ocds-07smqs-1224403                 2   \n",
       "ocds-07smqs-1240190                 0   \n",
       "ocds-07smqs-1241959                 0   \n",
       "\n",
       "                                                           part_nogana  \\\n",
       "ocds-07smqs-1043398                                                 []   \n",
       "ocds-07smqs-1193763                                                 []   \n",
       "ocds-07smqs-1224403  [FAR100921ALA, 89E87098891F04A46318B7F775AD5E4...   \n",
       "ocds-07smqs-1240190                       [RDO070228V11, ATD061228L34]   \n",
       "ocds-07smqs-1241959  [CGE130930JV2, 23DF515587ED8B3F4A8B1C9E4D725CA...   \n",
       "\n",
       "                                                                titulo  \\\n",
       "ocds-07smqs-1043398  SERVICIO MPLS ATRAVES DE UN ENLACE DEDICADO CO...   \n",
       "ocds-07smqs-1193763                ADQ. DE VIVERES PARA EJERCICIO 2017   \n",
       "ocds-07smqs-1224403          AA-019GYR026-E221-2016 DESIERTAS VIVERES    \n",
       "ocds-07smqs-1240190  SERVICIO DE RESGUARDO, CUSTODIA, TRASLADO, ENV...   \n",
       "ocds-07smqs-1241959                                                NaN   \n",
       "\n",
       "                                                                 descr  \\\n",
       "ocds-07smqs-1043398                                                      \n",
       "ocds-07smqs-1193763                ADQ. DE VIVERES PARA EJERCICIO 2017   \n",
       "ocds-07smqs-1224403                                                      \n",
       "ocds-07smqs-1240190  SERVICIO DE RESGUARDO, CUSTODIA, TRASLADO, ENV...   \n",
       "ocds-07smqs-1241959                                                NaN   \n",
       "\n",
       "                          valor dependencia_id  \\\n",
       "ocds-07smqs-1043398   169133.00         CIJ-66   \n",
       "ocds-07smqs-1193763  3880739.50       IMSS-192   \n",
       "ocds-07smqs-1224403   671930.69       IMSS-192   \n",
       "ocds-07smqs-1240190   116379.72       CPTM-109   \n",
       "ocds-07smqs-1241959         NaN            NaN   \n",
       "\n",
       "                                                    dependencia_nombre  \\\n",
       "ocds-07smqs-1043398               Centros de Integración Juvenil, A.C.   \n",
       "ocds-07smqs-1193763               Instituto Mexicano del Seguro Social   \n",
       "ocds-07smqs-1224403               Instituto Mexicano del Seguro Social   \n",
       "ocds-07smqs-1240190  Consejo de Promoción Turística de México, S.A....   \n",
       "ocds-07smqs-1241959                                                NaN   \n",
       "\n",
       "                                      uc_id  \\\n",
       "ocds-07smqs-1043398  CIJ731003QK3-012M7K001   \n",
       "ocds-07smqs-1193763  IMS421231I45-050GYR045   \n",
       "ocds-07smqs-1224403  IMS421231I45-050GYR026   \n",
       "ocds-07smqs-1240190  CPT991022DE7-021W3J001   \n",
       "ocds-07smqs-1241959                     NaN   \n",
       "\n",
       "                                                               uc_name  \\\n",
       "ocds-07smqs-1043398       CIJ-Departamento de Adquisiciones #012M7K001   \n",
       "ocds-07smqs-1193763  IMSS-UMAE Hospital de Especilidades No.71 Dept...   \n",
       "ocds-07smqs-1224403  IMSS-Coordinación de abastecimiento y equipami...   \n",
       "ocds-07smqs-1240190  CPTM-Gerencia de Adquisiciones y Licitaciones ...   \n",
       "ocds-07smqs-1241959                                                NaN   \n",
       "\n",
       "                                    fecha  \n",
       "ocds-07smqs-1043398  2016-04-18T12:02:38Z  \n",
       "ocds-07smqs-1193763  2016-12-09T05:26:28Z  \n",
       "ocds-07smqs-1224403  2016-12-02T05:49:52Z  \n",
       "ocds-07smqs-1240190  2016-12-20T06:52:52Z  \n",
       "ocds-07smqs-1241959                   NaN  "
      ]
     },
     "execution_count": 137,
     "metadata": {},
     "output_type": "execute_result"
    }
   ],
   "source": [
    "# Número de particpantes totales de cada contrato\n",
    "participantes_contrato = {c['ocid']: [p['id'] for p in c['parties'] if p['roles'] in [['tenderer'], ['tenderer', 'supplier']]] for c in casos_contratos}\n",
    "# Número de particpantes que estaban asociados en cada contrato\n",
    "asociados_contrato = {o: c['tenderer_ids'] for c in casos for o in c['contratos_ocid']}\n",
    "# ganador contrato\n",
    "ganadores_contrato = {c['ocid']: [p['id'] for p in c['parties'] if p['roles']==['tenderer', 'supplier']] for c in casos_contratos}\n",
    "# dataframe\n",
    "df_asoc = pd.DataFrame([participantes_contrato, asociados_contrato, ganadores_contrato]).T\\\n",
    "    .rename(columns={0: 'part', 1: 'asoc', 2: 'gana'})\\\n",
    "    .assign(N_part=lambda x: x['part'].str.len(),\n",
    "            N_asoc=lambda x: x['asoc'].str.len(),\n",
    "            N_gana=lambda x: x['gana'].str.len(),\n",
    "            prop_asoc_part=lambda x: x['N_asoc'].div(x['N_part']),\n",
    "            part_mayo=lambda x: x['prop_asoc_part'].ge(0.5),\n",
    "            asoc_ganadores=lambda x: x.apply(lambda y: list(set(y['gana']).intersection(set(y['asoc']))), axis=1),\n",
    "            N_asoc_ganadores=lambda x: x['asoc_ganadores'].str.len(),\n",
    "            part_nogana=lambda x: x.apply(lambda y: list(set(y['part']).difference(set(y['gana']))), axis=1))\\\n",
    "            .join(df_datos_contratos)\n",
    "df_asoc.to_pickle(f'{dir_datos}/df_asociados.pkl')\n",
    "df_asoc.head()"
   ]
  },
  {
   "cell_type": "code",
   "execution_count": null,
   "metadata": {},
   "outputs": [],
   "source": [
    "df_asoc = pd.read_pickle(f'{dir_datos}/df_asociados.pkl')"
   ]
  },
  {
   "cell_type": "markdown",
   "metadata": {},
   "source": [
    "* ¿En cuántos de estos casos los contratistas representaban el 50% de los proponentes o más?"
   ]
  },
  {
   "cell_type": "code",
   "execution_count": 82,
   "metadata": {},
   "outputs": [
    {
     "name": "stdout",
     "output_type": "stream",
     "text": [
      "Los contratistas representaban el 50% de los proponentes o más en 212 licitaciones\n"
     ]
    }
   ],
   "source": [
    "print('Los contratistas representaban el 50% de los proponentes o más en', df_asoc.part_mayo.sum(), 'licitaciones')"
   ]
  },
  {
   "cell_type": "markdown",
   "metadata": {},
   "source": [
    "* ¿En cuántos de estos casos los asociados fueron los únicos proponentes?"
   ]
  },
  {
   "cell_type": "code",
   "execution_count": 84,
   "metadata": {},
   "outputs": [
    {
     "name": "stdout",
     "output_type": "stream",
     "text": [
      "¿En cuántos de estos casos los asociados fueron los únicos proponentes? 41 licitaciones\n"
     ]
    }
   ],
   "source": [
    "print('¿En cuántos de estos casos los asociados fueron los únicos proponentes?', df_asoc.prop_asoc_part.eq(1).sum(), 'licitaciones')"
   ]
  },
  {
   "cell_type": "markdown",
   "metadata": {},
   "source": [
    "* De estos casos ¿en cuántas licitaciones los que estaban relacionados ganaron un concurso?"
   ]
  },
  {
   "cell_type": "code",
   "execution_count": 73,
   "metadata": {},
   "outputs": [
    {
     "name": "stdout",
     "output_type": "stream",
     "text": [
      "En 370 licitaciones ganó al menos uno de los contratistas asociados\n"
     ]
    }
   ],
   "source": [
    "print('En', df_asoc.N_asoc_ganadores.gt(0).sum(), 'licitaciones ganó al menos uno de los contratistas asociados')"
   ]
  },
  {
   "cell_type": "markdown",
   "metadata": {},
   "source": [
    "* ¿Cuántos contratistas asociados recibieron un contrato?"
   ]
  },
  {
   "cell_type": "code",
   "execution_count": 74,
   "metadata": {},
   "outputs": [
    {
     "name": "stdout",
     "output_type": "stream",
     "text": [
      "552  contratistas asociados ganaron una licitación\n"
     ]
    }
   ],
   "source": [
    "print(df_asoc.N_asoc_ganadores.sum(), ' contratistas asociados ganaron una licitación')"
   ]
  },
  {
   "cell_type": "markdown",
   "metadata": {},
   "source": [
    "* ¿En qué dependencias, unidades compradoras y servidores públicos ocurre más esto?"
   ]
  },
  {
   "cell_type": "code",
   "execution_count": 153,
   "metadata": {},
   "outputs": [
    {
     "data": {
      "text/plain": [
       "uc_name\n",
       "CONALITEG-Dirección de Recursos Materiales y Servicios Generales #011L6J001                                             33\n",
       "IMSS-Departamento de Adquisición de Bienes y Contratación de Servicios #050GYR033                                       16\n",
       "IMSS-Coordinación de Abastecimiento y Equipamiento #050GYR009                                                           10\n",
       "IMSS-Coordinación de Adquisición de Bienes y Contratación de Serv, Dirección de Administración #050GYR047                9\n",
       "INER-Departamento de Adquisiciones #012NCD001                                                                            9\n",
       "                                                                                                                        ..\n",
       "IMSS-UMAE HOSPITAL DE GINECO OBSTETRICIA No 03 DR VICTOR MANUEL ESPINOSA DE LOS REYES SANCHEZ CMN LA RAZA #050GYR050     1\n",
       "IMSS-Coord. de Abastecimiento y Equipamiento Deleg. Ver. Sur #050GYR022                                                  1\n",
       "SCT-Centro SCT Chihuahua #009000980                                                                                      1\n",
       "SCT-CENTRO SCT EN CHIAPAS SUBDIRECCION DE ADMINISTRACION #009000992                                                      1\n",
       "Tribunales Agrarios-Dirección General de Recursos Materiales #031000001                                                  1\n",
       "Name: part, Length: 218, dtype: int64"
      ]
     },
     "execution_count": 153,
     "metadata": {},
     "output_type": "execute_result"
    }
   ],
   "source": [
    "# Por unidades compradoras\n",
    "df_asoc.groupby(['uc_name'])['part'].count().sort_values(ascending=False)"
   ]
  },
  {
   "cell_type": "code",
   "execution_count": 155,
   "metadata": {},
   "outputs": [
    {
     "data": {
      "text/plain": [
       "dependencia_nombre\n",
       "Instituto Mexicano del Seguro Social                                          215\n",
       "Comisión Nacional de Libros de Texto Gratuitos                                 33\n",
       "Instituto de Seguridad y Servicios Sociales de los Trabajadores del Estado     32\n",
       "Comisión Federal de Electricidad                                               24\n",
       "Comisión Nacional del Agua                                                     15\n",
       "                                                                             ... \n",
       "Hospital Regional de Alta Especialidad de Oaxaca                                1\n",
       "Exportadora de Sal, S.A. de C.V.                                                1\n",
       "El Colegio de la Frontera Sur                                                   1\n",
       "Corporación Mexicana de Investigación en Materiales, S.A. de C.V.               1\n",
       "Administración Portuaria Integral de Progreso, S.A. de C.V.                     1\n",
       "Name: part, Length: 92, dtype: int64"
      ]
     },
     "execution_count": 155,
     "metadata": {},
     "output_type": "execute_result"
    }
   ],
   "source": [
    "df_asoc.groupby(['dependencia_nombre'])['part'].count().sort_values(ascending=False)"
   ]
  },
  {
   "cell_type": "markdown",
   "metadata": {},
   "source": [
    "## Crea red para visualizar"
   ]
  },
  {
   "cell_type": "code",
   "execution_count": 192,
   "metadata": {},
   "outputs": [],
   "source": [
    "# Poner nombres en vez de ids\n",
    "nodos = []\n",
    "red = 1\n",
    "for c, vals in df_asoc.iterrows():\n",
    "    nodos.append({'id': c, 'tipo': 'contrato'})\n",
    "    for p in vals['part_nogana']:\n",
    "        nodos.append({'id': p, 'tipo': 'tenderer'})\n",
    "        links.append({'origen_id': p, 'destino_id': c, 'accion': 'participa', 'red': red})\n",
    "    for p in vals['gana']:\n",
    "        nodos.append({'id': p, 'tipo': 'supplier'})\n",
    "        links.append({'origen_id': p, 'destino_id': c, 'accion': 'gana', 'red': red})\n",
    "    \n",
    "    for p1 in vals['asoc']:\n",
    "        for p2 in vals['asoc']:\n",
    "            if p1!=p2:\n",
    "                links.append({'origen_id': p1, 'destino_id': p2, 'accion': 'asociado', 'red': red})\n",
    "        \n",
    "    nodos.append({'id': vals['uc_id'], 'tipo': 'uc'})\n",
    "    links.append({'origen_id': vals['uc_id'], 'destino_id': c, 'accion': 'compra', 'red': red})\n",
    "    red+=1\n"
   ]
  },
  {
   "cell_type": "code",
   "execution_count": 277,
   "metadata": {},
   "outputs": [
    {
     "data": {
      "text/html": [
       "<div>\n",
       "<style scoped>\n",
       "    .dataframe tbody tr th:only-of-type {\n",
       "        vertical-align: middle;\n",
       "    }\n",
       "\n",
       "    .dataframe tbody tr th {\n",
       "        vertical-align: top;\n",
       "    }\n",
       "\n",
       "    .dataframe thead th {\n",
       "        text-align: right;\n",
       "    }\n",
       "</style>\n",
       "<table border=\"1\" class=\"dataframe\">\n",
       "  <thead>\n",
       "    <tr style=\"text-align: right;\">\n",
       "      <th></th>\n",
       "      <th>origen_id</th>\n",
       "      <th>destino_id</th>\n",
       "      <th>accion</th>\n",
       "      <th>red</th>\n",
       "      <th>origen_num</th>\n",
       "      <th>destino_num</th>\n",
       "    </tr>\n",
       "  </thead>\n",
       "  <tbody>\n",
       "    <tr>\n",
       "      <th>25696</th>\n",
       "      <td>TME840315KT6</td>\n",
       "      <td>ocds-07smqs-1043398</td>\n",
       "      <td>gana</td>\n",
       "      <td>1.0</td>\n",
       "      <td>287</td>\n",
       "      <td>0</td>\n",
       "    </tr>\n",
       "    <tr>\n",
       "      <th>25697</th>\n",
       "      <td>BD03FBE666C3DBA5C57BCDC8BF0AA451</td>\n",
       "      <td>ocds-07smqs-1043398</td>\n",
       "      <td>gana</td>\n",
       "      <td>1.0</td>\n",
       "      <td>286</td>\n",
       "      <td>0</td>\n",
       "    </tr>\n",
       "    <tr>\n",
       "      <th>25698</th>\n",
       "      <td>TME840315KT6</td>\n",
       "      <td>BD03FBE666C3DBA5C57BCDC8BF0AA451</td>\n",
       "      <td>asociado</td>\n",
       "      <td>1.0</td>\n",
       "      <td>287</td>\n",
       "      <td>286</td>\n",
       "    </tr>\n",
       "    <tr>\n",
       "      <th>25699</th>\n",
       "      <td>BD03FBE666C3DBA5C57BCDC8BF0AA451</td>\n",
       "      <td>TME840315KT6</td>\n",
       "      <td>asociado</td>\n",
       "      <td>1.0</td>\n",
       "      <td>286</td>\n",
       "      <td>287</td>\n",
       "    </tr>\n",
       "    <tr>\n",
       "      <th>25700</th>\n",
       "      <td>CIJ731003QK3-012M7K001</td>\n",
       "      <td>ocds-07smqs-1043398</td>\n",
       "      <td>compra</td>\n",
       "      <td>1.0</td>\n",
       "      <td>284</td>\n",
       "      <td>0</td>\n",
       "    </tr>\n",
       "  </tbody>\n",
       "</table>\n",
       "</div>"
      ],
      "text/plain": [
       "                              origen_id                        destino_id  \\\n",
       "25696                      TME840315KT6               ocds-07smqs-1043398   \n",
       "25697  BD03FBE666C3DBA5C57BCDC8BF0AA451               ocds-07smqs-1043398   \n",
       "25698                      TME840315KT6  BD03FBE666C3DBA5C57BCDC8BF0AA451   \n",
       "25699  BD03FBE666C3DBA5C57BCDC8BF0AA451                      TME840315KT6   \n",
       "25700            CIJ731003QK3-012M7K001               ocds-07smqs-1043398   \n",
       "\n",
       "         accion  red  origen_num  destino_num  \n",
       "25696      gana  1.0         287            0  \n",
       "25697      gana  1.0         286            0  \n",
       "25698  asociado  1.0         287          286  \n",
       "25699  asociado  1.0         286          287  \n",
       "25700    compra  1.0         284            0  "
      ]
     },
     "execution_count": 277,
     "metadata": {},
     "output_type": "execute_result"
    }
   ],
   "source": [
    "df_nodos = pd.DataFrame(nodos)\\\n",
    "    .assign(num=lambda x:x.index)\n",
    "dicc_nodo_num = {v:k for k,v in df_nodos['id'].to_dict().items()}\n",
    "df_links = pd.DataFrame(links)\\\n",
    "    .assign(origen_num=lambda x: x['origen_id'].map(dicc_nodo_num),\n",
    "           destino_num=lambda x: x['destino_id'].map(dicc_nodo_num))\\\n",
    "    .dropna()\n",
    "df_links.head()"
   ]
  },
  {
   "cell_type": "code",
   "execution_count": 206,
   "metadata": {},
   "outputs": [],
   "source": [
    "df_nodos.to_csv('datos/asociados_nodos.csv', index=False)\n",
    "df_links.to_csv('datos/asociados_links.csv', index=False)"
   ]
  },
  {
   "cell_type": "markdown",
   "metadata": {},
   "source": [
    "## Visualziacion networkX "
   ]
  },
  {
   "cell_type": "code",
   "execution_count": 279,
   "metadata": {},
   "outputs": [],
   "source": [
    "df_nodos_graph = df_nodos.set_index('id')"
   ]
  },
  {
   "cell_type": "code",
   "execution_count": null,
   "metadata": {},
   "outputs": [],
   "source": [
    "for red in df_links.red.unique():\n",
    "    G = nx.from_pandas_edgelist(df_links.query('red==@red'), source='origen_id', target='destino_id', edge_attr=['accion'])\n",
    "    dicc_color_edges = {'gana': 'green', 'asociado': 'red', 'participa': '#3292a8', 'compra': 'orange'}\n",
    "    dicc_color_nodos = {'contrato': '#3292a8', 'supplier': 'pink', 'tenderer': 'blue', 'uc': 'orange'}\n",
    "    color_edges = [dicc_color_edges[e[2]['accion']] for e in G.edges(data=True)]\n",
    "    color_nodes = [dicc_color_nodos[df_nodos_graph.loc[[i], 'tipo'].tolist()[0]] for i in G.nodes]\n",
    "    fig, ax = plt.subplots()\n",
    "    draw_network(G, color_edges=color_edges, color_nodes=color_nodes, axes=ax, labels=[1, 2, 4, 5], text_size=8)\n",
    "    fig.savefig(f'graficas/redes/red_{red}.png', dpi=200)\n",
    "    plt.cla()"
   ]
  },
  {
   "cell_type": "code",
   "execution_count": null,
   "metadata": {
    "scrolled": true
   },
   "outputs": [],
   "source": [
    "print(df_asoc.loc[[x for x in df_links.query('red==@red')['destino_id'].unique() if 'ocds' in x][0]])"
   ]
  },
  {
   "cell_type": "markdown",
   "metadata": {},
   "source": [
    "\n",
    "\n",
    "**Tareas**:\n",
    "\n",
    "* Procesar telefonos\n",
    "\n",
    "* procesar múltiples mails\n",
    "\n",
    "* Es posible obtener más datos de los contratistas a partir del RUCP, como el sitio web, giro del negocio\n",
    "\n",
    "Buscar otra anomalía: todos los contratos con métodos abiertos en los que solo participa un proponente.\n",
    "Buscar contratos en los que todos los particpantes reciben contrato.\n",
    "* Buscar otra anomalía: todos los contratos con métodos abiertos en los que solo participa un proponente.\n",
    "* Buscar contratos en los que todos los particpantes reciben contrato."
   ]
  },
  {
   "cell_type": "code",
   "execution_count": null,
   "metadata": {},
   "outputs": [],
   "source": []
  },
  {
   "cell_type": "code",
   "execution_count": null,
   "metadata": {
    "scrolled": true
   },
   "outputs": [],
   "source": []
  },
  {
   "cell_type": "markdown",
   "metadata": {},
   "source": [
    "## Funcionarios que intervienen en contrataciones"
   ]
  },
  {
   "cell_type": "code",
   "execution_count": 4,
   "metadata": {},
   "outputs": [
    {
     "data": {
      "text/plain": [
       "113795"
      ]
     },
     "execution_count": 4,
     "metadata": {},
     "output_type": "execute_result"
    }
   ],
   "source": [
    "mydb.func_contrat.count_documents({})"
   ]
  },
  {
   "cell_type": "code",
   "execution_count": 5,
   "metadata": {},
   "outputs": [
    {
     "data": {
      "text/plain": [
       "{'_id': ObjectId('5deb255d723b95da59c6a01b'),\n",
       " 'id': 'c6dbd706-b539-476f-a400-4dd69ed4a757',\n",
       " 'fechaCaptura': '',\n",
       " 'ejercicioFiscal': 2017,\n",
       " 'periodoEjercicio': {'fechaInicial': '2017/01/01',\n",
       "  'fechaFinal': '2017/12/31'},\n",
       " 'idRamo': 6,\n",
       " 'ramo': 'HACIENDA Y CRÉDITO PÚBLICO',\n",
       " 'nombres': None,\n",
       " 'primerApellido': None,\n",
       " 'segundoApellido': None,\n",
       " 'genero': None,\n",
       " 'institucionDependencia': {'siglas': 'CNBV',\n",
       "  'nombre': 'COMISIÓN NACIONAL BANCARIA Y DE VALORES',\n",
       "  'clave': '6/B00'},\n",
       " 'puesto': {'nombre': 'SUBDIRECTOR DE MEJORA A', 'nivel': None},\n",
       " 'tipoArea': ['R'],\n",
       " 'nivelResponsabilidad': ['A', 'T'],\n",
       " 'tipoProcedimiento': 1,\n",
       " 'tipoActos': 'CONTRATACIONES',\n",
       " 'superiorInmediato': {'nombres': None,\n",
       "  'primerApellido': None,\n",
       "  'segundoApellido': None,\n",
       "  'puesto': {'nombre': None, 'nivel': None}}}"
      ]
     },
     "execution_count": 5,
     "metadata": {},
     "output_type": "execute_result"
    }
   ],
   "source": [
    "mydb.func_contrat.find_one()"
   ]
  },
  {
   "cell_type": "code",
   "execution_count": 59,
   "metadata": {},
   "outputs": [],
   "source": [
    "nombre_func_contrat = [f'{r[\"nombres\"]} {r[\"primerApellido\"]} {r[\"segundoApellido\"]}'\n",
    "                       for r in mydb.func_contrat.find({}, {'_id':0, 'nombres': 1, 'primerApellido': 1, 'segundoApellido':1}) if all([r[\"nombres\"], r[\"primerApellido\"], r[\"segundoApellido\"]])]"
   ]
  },
  {
   "cell_type": "markdown",
   "metadata": {},
   "source": [
    "## Funcionarios sancionados"
   ]
  },
  {
   "cell_type": "code",
   "execution_count": 169,
   "metadata": {},
   "outputs": [
    {
     "data": {
      "text/plain": [
       "3575"
      ]
     },
     "execution_count": 169,
     "metadata": {},
     "output_type": "execute_result"
    }
   ],
   "source": [
    "mydb.serv_sanc.count_documents({})"
   ]
  },
  {
   "cell_type": "code",
   "execution_count": 39,
   "metadata": {},
   "outputs": [
    {
     "data": {
      "text/plain": [
       "{'_id': ObjectId('5deb27a2432e395ca7ba4a62'),\n",
       " 'nombres': 'ZACARIAS',\n",
       " 'primerApellido': 'PEREZ',\n",
       " 'segundoApellido': 'GARCIA',\n",
       " 'institucionDependencia': {'nombre': 'PROCURADURIA GENERAL DE LA REPUBLICA',\n",
       "  'siglas': ' '},\n",
       " 'autoridadSancionadora': 'ORGANO INTERNO DE CONTROL',\n",
       " 'expediente': '520/99',\n",
       " 'resolucion': {'fechaResolucion': '17/11/2000'},\n",
       " 'tipoSancion': 'INHABILITACION',\n",
       " 'inhabilitacion': {'fechaInicial': '17/11/2000',\n",
       "  'fechaFinal': '16/11/2020',\n",
       "  'observaciones': None},\n",
       " 'multa': {'monto': None, 'moneda': 'MXN'},\n",
       " 'causaMotivoHechos': 'ABUSO DE AUTORIDAD',\n",
       " 'puesto': 'AGENTE DE LA POLICIA JUDICIAL FEDERAL'}"
      ]
     },
     "execution_count": 39,
     "metadata": {},
     "output_type": "execute_result"
    }
   ],
   "source": [
    "mydb.serv_sanc.find_one()"
   ]
  },
  {
   "cell_type": "code",
   "execution_count": 170,
   "metadata": {},
   "outputs": [],
   "source": [
    "nombre_serv_sanc = [f'{r[\"nombres\"]} {r[\"primerApellido\"]} {r[\"segundoApellido\"]}' for r in mydb.serv_sanc.find({}, {'_id':0, 'nombres': 1, 'primerApellido': 1, 'segundoApellido':1})]"
   ]
  },
  {
   "cell_type": "code",
   "execution_count": 335,
   "metadata": {},
   "outputs": [],
   "source": [
    "casos_func = [p['contactPoint']['name'] for c in casos_contratos for p in c['parties'] if p['roles']==['procuringEntity']]"
   ]
  },
  {
   "cell_type": "code",
   "execution_count": 339,
   "metadata": {},
   "outputs": [
    {
     "data": {
      "text/plain": [
       "set()"
      ]
     },
     "execution_count": 339,
     "metadata": {},
     "output_type": "execute_result"
    }
   ],
   "source": [
    "set(casos_func).intersection(set(nombre_serv_sanc))"
   ]
  },
  {
   "cell_type": "code",
   "execution_count": 327,
   "metadata": {},
   "outputs": [
    {
     "data": {
      "text/plain": [
       "10"
      ]
     },
     "execution_count": 327,
     "metadata": {},
     "output_type": "execute_result"
    }
   ],
   "source": [
    "yt = list(set(df_contactos.name.unique().tolist()).intersection(set(nombre_serv_sanc)))\n",
    "len(yt)"
   ]
  },
  {
   "cell_type": "code",
   "execution_count": 328,
   "metadata": {},
   "outputs": [
    {
     "data": {
      "text/plain": [
       "['MIGUEL ANGEL TORRES HERNANDEZ',\n",
       " 'AGUSTIN TOLEDO GADEA',\n",
       " 'OSCAR CHAVEZ MARTINEZ',\n",
       " 'JOSE LUIS CHAVEZ FLORES',\n",
       " 'MARIO HERNANDEZ DIAZ',\n",
       " 'RODRIGO MALDONADO SAHAGUN',\n",
       " 'ERIKA BENITEZ GARCIA',\n",
       " 'FRANCISCO FIERRO SILVA',\n",
       " 'JOSE LUIS GARCIA RODRIGUEZ',\n",
       " 'JOSE DE LA CRUZ RAMIREZ']"
      ]
     },
     "execution_count": 328,
     "metadata": {},
     "output_type": "execute_result"
    }
   ],
   "source": [
    "yt"
   ]
  },
  {
   "cell_type": "markdown",
   "metadata": {},
   "source": [
    "## Particulares sancionados"
   ]
  },
  {
   "cell_type": "code",
   "execution_count": 42,
   "metadata": {},
   "outputs": [
    {
     "data": {
      "text/plain": [
       "1853"
      ]
     },
     "execution_count": 42,
     "metadata": {},
     "output_type": "execute_result"
    }
   ],
   "source": [
    "mydb.part_sanc.count_documents({})"
   ]
  },
  {
   "cell_type": "code",
   "execution_count": 40,
   "metadata": {},
   "outputs": [
    {
     "data": {
      "text/plain": [
       "{'_id': ObjectId('5deb27d0715998a251b6be6b'),\n",
       " 'fechaCaptura': '2019-08-22',\n",
       " 'expediente': '000270074/2017',\n",
       " 'nombreRazonSocial': 'CONSTRUCCIÓN ESPECIALIZADA Y TECNOLÓGICA DE MÉXICO, S.A. DE C.V.',\n",
       " 'rfc': 'ACV990407',\n",
       " 'telefono': '01 961 61 5 30 09',\n",
       " 'domicilio': {'clave': 'MX'},\n",
       " 'tipoSancion': 'ECONOMICA E INHABILITACIÓN',\n",
       " 'institucionDependencia': {'nombre': 'SECRETARIA DE LA FUNCIÓN PÚBLICA',\n",
       "  'siglas': 'SFP'},\n",
       " 'tipoFalta': '',\n",
       " 'causaMotivoHechos': 'NO ENTREGAR LA OBRA EN LA FECHA COMPROMETIDA PARA ELLO, ESTO ES EL 24 DE SEPTIEMBRE DE 2014',\n",
       " 'objetoContrato': '',\n",
       " 'autoridadSancionadora': 'SECRETARIA DE LA FUNCIÓN PÚBLICA',\n",
       " 'responsableSancion': {'nombres': 'MARÍA GUADALUPE VARGAS ÁLVAREZ',\n",
       "  'primerApellido': '',\n",
       "  'segundoApellido': ''},\n",
       " 'resolucion': {'sentido': 'SANCIONATORIA CON MULTA E INHABILITACIÓN'},\n",
       " 'fechaNotificacion': '2019-08-14',\n",
       " 'multa': {'monto': '504675.00', 'moneda': 'MXN'},\n",
       " 'plazo': {'fechaInicial': '2019-08-23'},\n",
       " 'observaciones': None}"
      ]
     },
     "execution_count": 40,
     "metadata": {},
     "output_type": "execute_result"
    }
   ],
   "source": [
    "mydb.part_sanc.find_one()"
   ]
  },
  {
   "cell_type": "code",
   "execution_count": 338,
   "metadata": {},
   "outputs": [],
   "source": [
    "rfc_sanc = [r['rfc'] for r in mydb.part_sanc.find({'rfc': {'$ne': ''}}, {'_id':0, 'rfc': 1})]"
   ]
  },
  {
   "cell_type": "markdown",
   "metadata": {},
   "source": [
    "# Red Mitchell"
   ]
  },
  {
   "cell_type": "code",
   "execution_count": 162,
   "metadata": {},
   "outputs": [],
   "source": [
    "result1 = mydb.contrataciones.find({'contracts': {'$exists': True}},\n",
    "                    ['ocid', 'parties.id', 'parties.roles', 'parties.contactPoint', 'contracts.value.amount', 'date'])\n",
    "\n",
    "l1 = list(result1)"
   ]
  },
  {
   "cell_type": "code",
   "execution_count": 163,
   "metadata": {},
   "outputs": [
    {
     "data": {
      "text/html": [
       "<div>\n",
       "<style scoped>\n",
       "    .dataframe tbody tr th:only-of-type {\n",
       "        vertical-align: middle;\n",
       "    }\n",
       "\n",
       "    .dataframe tbody tr th {\n",
       "        vertical-align: top;\n",
       "    }\n",
       "\n",
       "    .dataframe thead th {\n",
       "        text-align: right;\n",
       "    }\n",
       "</style>\n",
       "<table border=\"1\" class=\"dataframe\">\n",
       "  <thead>\n",
       "    <tr style=\"text-align: right;\">\n",
       "      <th></th>\n",
       "      <th>tenderer_id</th>\n",
       "    </tr>\n",
       "    <tr>\n",
       "      <th>ocid</th>\n",
       "      <th></th>\n",
       "    </tr>\n",
       "  </thead>\n",
       "  <tbody>\n",
       "    <tr>\n",
       "      <th>ocds-07smqs-1003803</th>\n",
       "      <td>E9C1C827AE1234CCF7AC4D9070BB597C</td>\n",
       "    </tr>\n",
       "    <tr>\n",
       "      <th>ocds-07smqs-1003123</th>\n",
       "      <td>SCA031118BX7</td>\n",
       "    </tr>\n",
       "    <tr>\n",
       "      <th>ocds-07smqs-1003123</th>\n",
       "      <td>SAU0505307M9</td>\n",
       "    </tr>\n",
       "    <tr>\n",
       "      <th>ocds-07smqs-1003123</th>\n",
       "      <td>SCK070618C21</td>\n",
       "    </tr>\n",
       "    <tr>\n",
       "      <th>ocds-07smqs-1009245</th>\n",
       "      <td>R&amp;S811221KR6</td>\n",
       "    </tr>\n",
       "  </tbody>\n",
       "</table>\n",
       "</div>"
      ],
      "text/plain": [
       "                                          tenderer_id\n",
       "ocid                                                 \n",
       "ocds-07smqs-1003803  E9C1C827AE1234CCF7AC4D9070BB597C\n",
       "ocds-07smqs-1003123                      SCA031118BX7\n",
       "ocds-07smqs-1003123                      SAU0505307M9\n",
       "ocds-07smqs-1003123                      SCK070618C21\n",
       "ocds-07smqs-1009245                      R&S811221KR6"
      ]
     },
     "execution_count": 163,
     "metadata": {},
     "output_type": "execute_result"
    }
   ],
   "source": [
    "ocid_tenderer = pd.DataFrame([(c['ocid'], p['id']) for c in l1 for p in c['parties']\n",
    "                     if p['roles'] in [['tenderer', 'supplier'], ['tenderer']]],\n",
    "                             columns=['ocid', 'tenderer_id'],\n",
    "                            ).set_index('ocid')\n",
    "ocid_tenderer.head()"
   ]
  },
  {
   "cell_type": "code",
   "execution_count": 164,
   "metadata": {},
   "outputs": [
    {
     "data": {
      "text/html": [
       "<div>\n",
       "<style scoped>\n",
       "    .dataframe tbody tr th:only-of-type {\n",
       "        vertical-align: middle;\n",
       "    }\n",
       "\n",
       "    .dataframe tbody tr th {\n",
       "        vertical-align: top;\n",
       "    }\n",
       "\n",
       "    .dataframe thead th {\n",
       "        text-align: right;\n",
       "    }\n",
       "</style>\n",
       "<table border=\"1\" class=\"dataframe\">\n",
       "  <thead>\n",
       "    <tr style=\"text-align: right;\">\n",
       "      <th></th>\n",
       "      <th>funcionario_id</th>\n",
       "      <th>uc_id</th>\n",
       "      <th>valor_contrato</th>\n",
       "      <th>fecha</th>\n",
       "    </tr>\n",
       "    <tr>\n",
       "      <th>ocid</th>\n",
       "      <th></th>\n",
       "      <th></th>\n",
       "      <th></th>\n",
       "      <th></th>\n",
       "    </tr>\n",
       "  </thead>\n",
       "  <tbody>\n",
       "    <tr>\n",
       "      <th>ocds-07smqs-1003803</th>\n",
       "      <td>José Gabriel Ramos Martínez</td>\n",
       "      <td>SAT970701NN3-006E00002</td>\n",
       "      <td>8451072.00</td>\n",
       "      <td>2016-02-19T01:09:18Z</td>\n",
       "    </tr>\n",
       "    <tr>\n",
       "      <th>ocds-07smqs-1003123</th>\n",
       "      <td>Ignacio Romero Sánchez</td>\n",
       "      <td>PGR850101RC6-017000017</td>\n",
       "      <td>168000.00</td>\n",
       "      <td>2016-02-19T01:49:22Z</td>\n",
       "    </tr>\n",
       "    <tr>\n",
       "      <th>ocds-07smqs-1009245</th>\n",
       "      <td>Juan Fernando Meza Zavala</td>\n",
       "      <td>STP401231P53-014000999</td>\n",
       "      <td>420689.55</td>\n",
       "      <td>2016-02-26T05:33:08Z</td>\n",
       "    </tr>\n",
       "    <tr>\n",
       "      <th>ocds-07smqs-1012355</th>\n",
       "      <td>Luis Eduardo Vega Becerra</td>\n",
       "      <td>CNU800928K31-018E00999</td>\n",
       "      <td>20000.00</td>\n",
       "      <td>2016-03-02T01:58:39Z</td>\n",
       "    </tr>\n",
       "    <tr>\n",
       "      <th>ocds-07smqs-1025654</th>\n",
       "      <td>Marco Antonio Brito Vidales</td>\n",
       "      <td>IAA6210025R4-006A00996</td>\n",
       "      <td>10604000.00</td>\n",
       "      <td>2016-03-18T06:40:28Z</td>\n",
       "    </tr>\n",
       "  </tbody>\n",
       "</table>\n",
       "</div>"
      ],
      "text/plain": [
       "                                  funcionario_id                   uc_id  \\\n",
       "ocid                                                                       \n",
       "ocds-07smqs-1003803  José Gabriel Ramos Martínez  SAT970701NN3-006E00002   \n",
       "ocds-07smqs-1003123       Ignacio Romero Sánchez  PGR850101RC6-017000017   \n",
       "ocds-07smqs-1009245    Juan Fernando Meza Zavala  STP401231P53-014000999   \n",
       "ocds-07smqs-1012355    Luis Eduardo Vega Becerra  CNU800928K31-018E00999   \n",
       "ocds-07smqs-1025654  Marco Antonio Brito Vidales  IAA6210025R4-006A00996   \n",
       "\n",
       "                     valor_contrato                 fecha  \n",
       "ocid                                                       \n",
       "ocds-07smqs-1003803      8451072.00  2016-02-19T01:09:18Z  \n",
       "ocds-07smqs-1003123       168000.00  2016-02-19T01:49:22Z  \n",
       "ocds-07smqs-1009245       420689.55  2016-02-26T05:33:08Z  \n",
       "ocds-07smqs-1012355        20000.00  2016-03-02T01:58:39Z  \n",
       "ocds-07smqs-1025654     10604000.00  2016-03-18T06:40:28Z  "
      ]
     },
     "execution_count": 164,
     "metadata": {},
     "output_type": "execute_result"
    }
   ],
   "source": [
    "ocid_funcionario = pd.DataFrame([(c['ocid'], p['contactPoint'].get('name', ''), p['id'],\n",
    "                                  c['contracts'][0]['value']['amount'], c['date'])\n",
    "                                 for c in l1 for p in c['parties']\n",
    "                     if p['roles']==['procuringEntity']], columns=['ocid', 'funcionario_id', 'uc_id', 'valor_contrato', 'fecha'])\\\n",
    "                .set_index('ocid')\n",
    "\n",
    "ocid_dependencia = pd.DataFrame([(c['ocid'], p['id'])\n",
    "                                 for c in l1 for p in c['parties']\n",
    "                     if p['roles']==['buyer']], columns=['ocid', 'dep_id'])\\\n",
    "                .set_index('ocid')\n",
    "\n",
    "ocid_funcionario.head()"
   ]
  },
  {
   "cell_type": "code",
   "execution_count": null,
   "metadata": {},
   "outputs": [],
   "source": []
  },
  {
   "cell_type": "code",
   "execution_count": 165,
   "metadata": {
    "scrolled": true
   },
   "outputs": [
    {
     "data": {
      "text/html": [
       "<div>\n",
       "<style scoped>\n",
       "    .dataframe tbody tr th:only-of-type {\n",
       "        vertical-align: middle;\n",
       "    }\n",
       "\n",
       "    .dataframe tbody tr th {\n",
       "        vertical-align: top;\n",
       "    }\n",
       "\n",
       "    .dataframe thead th {\n",
       "        text-align: right;\n",
       "    }\n",
       "</style>\n",
       "<table border=\"1\" class=\"dataframe\">\n",
       "  <thead>\n",
       "    <tr style=\"text-align: right;\">\n",
       "      <th></th>\n",
       "      <th>tenderer_id</th>\n",
       "      <th>funcionario_id</th>\n",
       "      <th>uc_id</th>\n",
       "      <th>valor_contrato</th>\n",
       "      <th>fecha</th>\n",
       "      <th>dep_id</th>\n",
       "    </tr>\n",
       "    <tr>\n",
       "      <th>ocid</th>\n",
       "      <th></th>\n",
       "      <th></th>\n",
       "      <th></th>\n",
       "      <th></th>\n",
       "      <th></th>\n",
       "      <th></th>\n",
       "    </tr>\n",
       "  </thead>\n",
       "  <tbody>\n",
       "    <tr>\n",
       "      <th>ocds-07smqs-1001024</th>\n",
       "      <td>ELE9012281G2</td>\n",
       "      <td>Evelyn López Valverde</td>\n",
       "      <td>LIC950821M84-020VST003</td>\n",
       "      <td>1.152540e+05</td>\n",
       "      <td>2016-03-15T01:02:50Z</td>\n",
       "      <td>LICONSA-231</td>\n",
       "    </tr>\n",
       "    <tr>\n",
       "      <th>ocds-07smqs-1001040</th>\n",
       "      <td>HIG090519H30</td>\n",
       "      <td>Nicolas Gonzalez Bustos</td>\n",
       "      <td>HIM871203BS0-012NBG001</td>\n",
       "      <td>2.603075e+07</td>\n",
       "      <td>2016-02-16T02:44:58Z</td>\n",
       "      <td>HIM-163</td>\n",
       "    </tr>\n",
       "    <tr>\n",
       "      <th>ocds-07smqs-1001984</th>\n",
       "      <td>282910F3163E9D7DBC543E53CD9347B6</td>\n",
       "      <td>Nicolas Gonzalez Bustos</td>\n",
       "      <td>HIM871203BS0-012NBG001</td>\n",
       "      <td>1.071380e+05</td>\n",
       "      <td>2016-02-17T04:42:35Z</td>\n",
       "      <td>HIM-163</td>\n",
       "    </tr>\n",
       "    <tr>\n",
       "      <th>ocds-07smqs-1002362</th>\n",
       "      <td>IPS040121S66</td>\n",
       "      <td>Nicolas Gonzalez Bustos</td>\n",
       "      <td>HIM871203BS0-012NBG001</td>\n",
       "      <td>2.115000e+05</td>\n",
       "      <td>2016-02-17T07:30:57Z</td>\n",
       "      <td>HIM-163</td>\n",
       "    </tr>\n",
       "    <tr>\n",
       "      <th>ocds-07smqs-1003123</th>\n",
       "      <td>SCA031118BX7</td>\n",
       "      <td>Ignacio Romero Sánchez</td>\n",
       "      <td>PGR850101RC6-017000017</td>\n",
       "      <td>1.680000e+05</td>\n",
       "      <td>2016-02-19T01:49:22Z</td>\n",
       "      <td>PGR-251</td>\n",
       "    </tr>\n",
       "    <tr>\n",
       "      <th>...</th>\n",
       "      <td>...</td>\n",
       "      <td>...</td>\n",
       "      <td>...</td>\n",
       "      <td>...</td>\n",
       "      <td>...</td>\n",
       "      <td>...</td>\n",
       "    </tr>\n",
       "    <tr>\n",
       "      <th>ocds-07smqs-999514</th>\n",
       "      <td>CPC131113AT4</td>\n",
       "      <td>Luis Enrique Mendoza Flores</td>\n",
       "      <td>IMS421231I45-050GYR026</td>\n",
       "      <td>7.317600e+04</td>\n",
       "      <td>2016-02-12T01:34:46Z</td>\n",
       "      <td>IMSS-192</td>\n",
       "    </tr>\n",
       "    <tr>\n",
       "      <th>ocds-07smqs-999514</th>\n",
       "      <td>96A74A55F4E5DAEC0797B59049D8EC81</td>\n",
       "      <td>Luis Enrique Mendoza Flores</td>\n",
       "      <td>IMS421231I45-050GYR026</td>\n",
       "      <td>7.317600e+04</td>\n",
       "      <td>2016-02-12T01:34:46Z</td>\n",
       "      <td>IMSS-192</td>\n",
       "    </tr>\n",
       "    <tr>\n",
       "      <th>ocds-07smqs-999514</th>\n",
       "      <td>TGH130612IK1</td>\n",
       "      <td>Luis Enrique Mendoza Flores</td>\n",
       "      <td>IMS421231I45-050GYR026</td>\n",
       "      <td>7.317600e+04</td>\n",
       "      <td>2016-02-12T01:34:46Z</td>\n",
       "      <td>IMSS-192</td>\n",
       "    </tr>\n",
       "    <tr>\n",
       "      <th>ocds-07smqs-999514</th>\n",
       "      <td>SIN011023UC8</td>\n",
       "      <td>Luis Enrique Mendoza Flores</td>\n",
       "      <td>IMS421231I45-050GYR026</td>\n",
       "      <td>7.317600e+04</td>\n",
       "      <td>2016-02-12T01:34:46Z</td>\n",
       "      <td>IMSS-192</td>\n",
       "    </tr>\n",
       "    <tr>\n",
       "      <th>ocds-07smqs-999514</th>\n",
       "      <td>GMC09121623A</td>\n",
       "      <td>Luis Enrique Mendoza Flores</td>\n",
       "      <td>IMS421231I45-050GYR026</td>\n",
       "      <td>7.317600e+04</td>\n",
       "      <td>2016-02-12T01:34:46Z</td>\n",
       "      <td>IMSS-192</td>\n",
       "    </tr>\n",
       "  </tbody>\n",
       "</table>\n",
       "<p>726038 rows × 6 columns</p>\n",
       "</div>"
      ],
      "text/plain": [
       "                                          tenderer_id  \\\n",
       "ocid                                                    \n",
       "ocds-07smqs-1001024                      ELE9012281G2   \n",
       "ocds-07smqs-1001040                      HIG090519H30   \n",
       "ocds-07smqs-1001984  282910F3163E9D7DBC543E53CD9347B6   \n",
       "ocds-07smqs-1002362                      IPS040121S66   \n",
       "ocds-07smqs-1003123                      SCA031118BX7   \n",
       "...                                               ...   \n",
       "ocds-07smqs-999514                       CPC131113AT4   \n",
       "ocds-07smqs-999514   96A74A55F4E5DAEC0797B59049D8EC81   \n",
       "ocds-07smqs-999514                       TGH130612IK1   \n",
       "ocds-07smqs-999514                       SIN011023UC8   \n",
       "ocds-07smqs-999514                       GMC09121623A   \n",
       "\n",
       "                                  funcionario_id                   uc_id  \\\n",
       "ocid                                                                       \n",
       "ocds-07smqs-1001024        Evelyn López Valverde  LIC950821M84-020VST003   \n",
       "ocds-07smqs-1001040      Nicolas Gonzalez Bustos  HIM871203BS0-012NBG001   \n",
       "ocds-07smqs-1001984      Nicolas Gonzalez Bustos  HIM871203BS0-012NBG001   \n",
       "ocds-07smqs-1002362      Nicolas Gonzalez Bustos  HIM871203BS0-012NBG001   \n",
       "ocds-07smqs-1003123       Ignacio Romero Sánchez  PGR850101RC6-017000017   \n",
       "...                                          ...                     ...   \n",
       "ocds-07smqs-999514   Luis Enrique Mendoza Flores  IMS421231I45-050GYR026   \n",
       "ocds-07smqs-999514   Luis Enrique Mendoza Flores  IMS421231I45-050GYR026   \n",
       "ocds-07smqs-999514   Luis Enrique Mendoza Flores  IMS421231I45-050GYR026   \n",
       "ocds-07smqs-999514   Luis Enrique Mendoza Flores  IMS421231I45-050GYR026   \n",
       "ocds-07smqs-999514   Luis Enrique Mendoza Flores  IMS421231I45-050GYR026   \n",
       "\n",
       "                     valor_contrato                 fecha       dep_id  \n",
       "ocid                                                                    \n",
       "ocds-07smqs-1001024    1.152540e+05  2016-03-15T01:02:50Z  LICONSA-231  \n",
       "ocds-07smqs-1001040    2.603075e+07  2016-02-16T02:44:58Z      HIM-163  \n",
       "ocds-07smqs-1001984    1.071380e+05  2016-02-17T04:42:35Z      HIM-163  \n",
       "ocds-07smqs-1002362    2.115000e+05  2016-02-17T07:30:57Z      HIM-163  \n",
       "ocds-07smqs-1003123    1.680000e+05  2016-02-19T01:49:22Z      PGR-251  \n",
       "...                             ...                   ...          ...  \n",
       "ocds-07smqs-999514     7.317600e+04  2016-02-12T01:34:46Z     IMSS-192  \n",
       "ocds-07smqs-999514     7.317600e+04  2016-02-12T01:34:46Z     IMSS-192  \n",
       "ocds-07smqs-999514     7.317600e+04  2016-02-12T01:34:46Z     IMSS-192  \n",
       "ocds-07smqs-999514     7.317600e+04  2016-02-12T01:34:46Z     IMSS-192  \n",
       "ocds-07smqs-999514     7.317600e+04  2016-02-12T01:34:46Z     IMSS-192  \n",
       "\n",
       "[726038 rows x 6 columns]"
      ]
     },
     "execution_count": 165,
     "metadata": {},
     "output_type": "execute_result"
    }
   ],
   "source": [
    "ocid_tender_fun = ocid_tenderer.join([ocid_funcionario, ocid_dependencia])\n",
    "ocid_tender_fun"
   ]
  },
  {
   "cell_type": "code",
   "execution_count": 166,
   "metadata": {},
   "outputs": [],
   "source": [
    "ocid_tender_fun.to_csv(f'{dir_datos}/ocid_tender_fun.csv')"
   ]
  },
  {
   "cell_type": "code",
   "execution_count": null,
   "metadata": {},
   "outputs": [],
   "source": []
  }
 ],
 "metadata": {
  "gist": {
   "data": {
    "description": "compranet_mongodb.ipynb",
    "public": true
   },
   "id": ""
  },
  "hide_input": false,
  "kernel_info": {
   "name": "python3"
  },
  "kernelspec": {
   "display_name": "Python 3",
   "language": "python",
   "name": "python3"
  },
  "language_info": {
   "codemirror_mode": {
    "name": "ipython",
    "version": 3
   },
   "file_extension": ".py",
   "mimetype": "text/x-python",
   "name": "python",
   "nbconvert_exporter": "python",
   "pygments_lexer": "ipython3",
   "version": "3.6.10"
  },
  "nteract": {
   "version": "0.15.0"
  },
  "toc": {
   "base_numbering": 1,
   "nav_menu": {},
   "number_sections": true,
   "sideBar": true,
   "skip_h1_title": false,
   "title_cell": "Table of Contents",
   "title_sidebar": "Contents",
   "toc_cell": false,
   "toc_position": {},
   "toc_section_display": true,
   "toc_window_display": false
  },
  "varInspector": {
   "cols": {
    "lenName": 16,
    "lenType": 16,
    "lenVar": 40
   },
   "kernels_config": {
    "python": {
     "delete_cmd_postfix": "",
     "delete_cmd_prefix": "del ",
     "library": "var_list.py",
     "varRefreshCmd": "print(var_dic_list())"
    },
    "r": {
     "delete_cmd_postfix": ") ",
     "delete_cmd_prefix": "rm(",
     "library": "var_list.r",
     "varRefreshCmd": "cat(var_dic_list()) "
    }
   },
   "types_to_exclude": [
    "module",
    "function",
    "builtin_function_or_method",
    "instance",
    "_Feature"
   ],
   "window_display": false
  }
 },
 "nbformat": 4,
 "nbformat_minor": 2
}
