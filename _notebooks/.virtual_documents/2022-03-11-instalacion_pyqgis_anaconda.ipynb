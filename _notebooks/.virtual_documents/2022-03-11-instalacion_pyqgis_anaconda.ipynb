import json
import os
import sys
from qgis.core import QgsProject, QgsVectorLayer, QgsProcessingFeatureSourceDefinition, QgsFeatureRequest, QgsVectorFileWriter, QgsApplication, QgsProcessingProvider
from qgis.analysis import QgsNativeAlgorithms
import matplotlib.pyplot as plt

os.environ["QT_QPA_PLATFORM"] = "offscreen" # Esta línea es necesaria para poder iniciar una instancia QgsApplication(), en caso de que sea necesario

QgsApplication.setPrefixPath(None, True)

import processing
from processing.core.Processing import Processing

# Inicia algoritmos
Processing.initialize()

# establece directorio de trabajo
os.chdir('/home/studio-lab-user/sagemaker-studiolab-notebooks/intro_pyqgis')

proyecto = QgsProject.instance()

# carpeta donde están los datos
dir_data = "datos"
nombre_layer_colonias = "colonias_cdmx"
layer_colonias = QgsVectorLayer(f"{dir_data}/colonias_iecm_2019/mgpc_2019.shp", nombre_layer_colonias)
if not proyecto.mapLayersByName(nombre_layer_colonias):
    proyecto.addMapLayer(layer_colonias)

print("Número de capas en el proyecto:", proyecto.count())
print("CRS del proyecto:", proyecto.crs().description())
print("Directorio del proyecto:", proyecto.homePath())

print("Número de filas:", layer_colonias.featureCount())
print("Número de columnas:", len(layer_colonias.fields()))
print("Sistema de coordenadas:", layer_colonias.crs().description())

for f in layer_colonias.fields():
    print(f.name(), f.typeName())
#
feature = layer_colonias.getFeature(10)
print(feature)
print(feature.attributes())
#
geom = feature.geometry()
print(geom.centroid())

coords = json.loads(geom.asJson())["coordinates"][0][0]
coords_centroide = json.loads(geom.centroid().asJson())["coordinates"]
x, y = [[xy[n] for xy in coords] for n in [0, 1]]
ax = plt.subplot()
ax.plot(x, y)
ax.plot([coords_centroide[0]], [coords_centroide[1]], 'bo')
ax.text(x=coords_centroide[0], y=coords_centroide[1], s=feature.attribute("NOMUT"))


params = {
    'INPUT': QgsProcessingFeatureSourceDefinition(
        nombre_layer_colonias, selectedFeaturesOnly=False,
        featureLimit=-1,
        flags=QgsProcessingFeatureSourceDefinition.FlagOverrideDefaultGeometryCheck,
        geometryCheck=QgsFeatureRequest.GeometrySkipInvalid
    ),
    'ALL_PARTS': False,
    'OUTPUT': f"{dir_data}/centroides_colonias.geojson"
}

try:
    out = processing.run("native:centroids", params)
except:
    out = processing.run("native:centroids", params)


layer_centroides = QgsVectorLayer(out["OUTPUT"])
geoms = [f.geometry().asPoint() for f in layer_centroides.getFeatures()]
points_x = [p.x() for p in geoms]
points_y = [p.y() for p in geoms]

ax = plt.subplot()
ax.plot(points_x, points_y, 'bo', alpha=0.2)
ax.set_aspect('equal')
ax.figure.set_size_inches(8, 8)
ax.set_title("Colonias de la CDMX")


QgsApplication.processingRegistry().addProvider(QgsNativeAlgorithms())
for alg in QgsApplication.processingRegistry().algorithms():
    print(alg.id(), "--->", alg.displayName())
